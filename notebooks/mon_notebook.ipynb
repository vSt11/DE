{
 "cells": [
  {
   "cell_type": "markdown",
   "id": "aca2440c-a24c-4ae9-b4e6-b0c4adf6185f",
   "metadata": {},
   "source": [
    "# DISCLAIMER\n",
    "\n",
    "Due to the end of the free trial of Gcloud when i was running some parts of the notebook. I could not complete it entirely as I would have loved to. I'm sorry for that. Instead, try to run it on your own computer. I hope it will work well. It's really frustrating, after all these hours, not to be able to deliver the work I wanted to. But it seems that I have no choice. I have already gave several dozens of hours trying to make it work it out. I'm disappointed but I can't give it much more time. \n",
    "Note that I made some modifications to the test set that seems to destroy the meaning of the RMSE (since I got some 0.44 instead of 4.5). However, I think that's because I deleted the pickup lat/long values outside of NYC, this reduced greatly the test set and improved a lot performances. I think we shouldn't do it in order to keep our model as general as possible. However, our last model produce a 79% accuracy, which seemes pretty good. "
   ]
  },
  {
   "cell_type": "markdown",
   "id": "5080c7e1",
   "metadata": {},
   "source": [
    "# Welcome to the DE SDD Evaluation!\n",
    "\n",
    "Today, the goal is to understand how a distributed system can be useful when dealing with medium to large scale data sets.  \n",
    "We'll see that Dask start to be nice as soon as the Data we need to process doesn't quite fit in memory, but also if we\n",
    "need to launch several computations in parallel.\n",
    "\n",
    "In this evaluation, you will:\n",
    "- Use Dask to read and understand the several gigabytes input dataset in a interactive way,\n",
    "- Preprocess the data in a distributed way: cleaning it up and adding some useful features,\n",
    "- Launch some model training that can be parallelized on a big dataset,\n",
    "- Reduce the dataset and train more accurate models on less Data,\n",
    "- Do an hyper parameter search to find the best model on a small sample of Data.\n",
    "\n",
    "In order to run and fill this notebook, you'll need to first deploy a Dask enabled Kubernetes cluster as seen before. So please use the Kubernetes_DaskHub notebook for the steps to do it.\n",
    "\n",
    "Once the Jupyterhub is up, you can clone the DE repository from a Jupyterlab terminal to get this notebook, and select the default kernel.\n",
    "```\n",
    "git clone https://github.com/SupaeroDataScience/DE.git\n",
    "cd DE/notebooks\n",
    "```"
   ]
  },
  {
   "cell_type": "markdown",
   "id": "9a9f615b",
   "metadata": {},
   "source": [
    "## The Dataset\n",
    "\n",
    "It is some statistics about NY Taxi cabs. \n",
    "\n",
    "See https://www.kaggle.com/c/new-york-city-taxi-fare-prediction/overview, or https://www.kaggle.com/c/new-york-city-taxi-fare-prediction/data.\n",
    "        \n",
    "The goal of this evaluation will be to generate a model using machine learning algorithms that will predict the fare amount\n",
    "of a taxi ride given the other input parameters we have.\n",
    "\n",
    "The model will be evaluated using the Root mean squared error algorithm:  \n",
    "https://www.kaggle.com/c/new-york-city-taxi-fare-prediction/overview/evaluation."
   ]
  },
  {
   "cell_type": "markdown",
   "id": "255611eb",
   "metadata": {},
   "source": [
    "## Try to analyze the Data using Kaggles' start-up code\n",
    "\n",
    "As an introduction, we'll use Kaggle starters' code to get some insights on the data set and\n",
    "computations we'll do and measure pandas library (non parallelized access and process) performance.\n",
    "\n",
    "See https://www.kaggle.com/dster/nyc-taxi-fare-starter-kernel-simple-linear-model where this comes from.\n",
    "\n",
    "This Kaggle method will set the bar to beat with our own tools. I'm sure you can do it."
   ]
  },
  {
   "cell_type": "markdown",
   "id": "61175e73",
   "metadata": {},
   "source": [
    "#### Reading the data with pandas\n",
    "\n",
    "We're reading only about 20% from the whole data set. Using the storage_options kwarg was mandatory for me to avoid auth issues, don't forget it when you read public data from cloud storage during this evaluation."
   ]
  },
  {
   "cell_type": "code",
   "execution_count": 7,
   "id": "e6a9896e",
   "metadata": {},
   "outputs": [
    {
     "name": "stdout",
     "output_type": "stream",
     "text": [
      "CPU times: user 25.3 s, sys: 4.72 s, total: 30 s\n",
      "Wall time: 1min 2s\n"
     ]
    },
    {
     "data": {
      "text/plain": [
       "key                   object\n",
       "fare_amount          float64\n",
       "pickup_datetime       object\n",
       "pickup_longitude     float64\n",
       "pickup_latitude      float64\n",
       "dropoff_longitude    float64\n",
       "dropoff_latitude     float64\n",
       "passenger_count        int64\n",
       "dtype: object"
      ]
     },
     "execution_count": 7,
     "metadata": {},
     "output_type": "execute_result"
    }
   ],
   "source": [
    "%%time\n",
    "import pandas as pd\n",
    "train_df =  pd.read_csv('gs://obd-dask23/train.csv', nrows = 10_000_000, storage_options={'token': 'anon'})\n",
    "train_df.dtypes"
   ]
  },
  {
   "cell_type": "markdown",
   "id": "2df98a8b",
   "metadata": {},
   "source": [
    "#### Analysing dataset, adding some features and droping null values\n",
    "\n",
    "Let's see if we can see some correlation between passengers count and fare amount?"
   ]
  },
  {
   "cell_type": "code",
   "execution_count": 8,
   "id": "4f584bf2",
   "metadata": {},
   "outputs": [
    {
     "name": "stdout",
     "output_type": "stream",
     "text": [
      "CPU times: user 190 ms, sys: 37.1 ms, total: 227 ms\n",
      "Wall time: 224 ms\n"
     ]
    },
    {
     "data": {
      "text/plain": [
       "passenger_count\n",
       "0       9.047261\n",
       "1      11.216596\n",
       "2      11.800345\n",
       "3      11.536788\n",
       "4      11.754418\n",
       "5      11.218924\n",
       "6      12.141258\n",
       "7      36.582500\n",
       "8      32.665000\n",
       "9      37.366667\n",
       "34     13.300000\n",
       "51      9.300000\n",
       "129     8.500000\n",
       "208    11.140000\n",
       "Name: fare_amount, dtype: float64"
      ]
     },
     "execution_count": 8,
     "metadata": {},
     "output_type": "execute_result"
    }
   ],
   "source": [
    "%%time\n",
    "train_df.groupby(train_df.passenger_count).fare_amount.mean()"
   ]
  },
  {
   "cell_type": "markdown",
   "id": "c6623ecc",
   "metadata": {},
   "source": [
    "Maybe adding some features about the distance of the trip could be a good idea?"
   ]
  },
  {
   "cell_type": "code",
   "execution_count": 9,
   "id": "a8b70ee5",
   "metadata": {},
   "outputs": [
    {
     "name": "stdout",
     "output_type": "stream",
     "text": [
      "CPU times: user 95.4 ms, sys: 92.1 ms, total: 187 ms\n",
      "Wall time: 187 ms\n"
     ]
    }
   ],
   "source": [
    "%%time\n",
    "# 'abs_diff_longitude' 'abs_diff_latitude' reprensenting the \"Manhattan vector\" from\n",
    "# the pickup location to the dropoff location.\n",
    "def add_travel_vector_features(df):\n",
    "    df['abs_diff_longitude'] = (df.dropoff_longitude - df.pickup_longitude).abs()\n",
    "    df['abs_diff_latitude'] = (df.dropoff_latitude - df.pickup_latitude).abs()\n",
    "\n",
    "add_travel_vector_features(train_df)"
   ]
  },
  {
   "cell_type": "markdown",
   "id": "df8c6ca0",
   "metadata": {},
   "source": [
    "Are there some undefined values?"
   ]
  },
  {
   "cell_type": "code",
   "execution_count": 10,
   "id": "01248590",
   "metadata": {},
   "outputs": [
    {
     "name": "stdout",
     "output_type": "stream",
     "text": [
      "key                    0\n",
      "fare_amount            0\n",
      "pickup_datetime        0\n",
      "pickup_longitude       0\n",
      "pickup_latitude        0\n",
      "dropoff_longitude     74\n",
      "dropoff_latitude      74\n",
      "passenger_count        0\n",
      "abs_diff_longitude    74\n",
      "abs_diff_latitude     74\n",
      "dtype: int64\n",
      "CPU times: user 954 ms, sys: 38.4 ms, total: 992 ms\n",
      "Wall time: 990 ms\n"
     ]
    }
   ],
   "source": [
    "%%time\n",
    "print(train_df.isnull().sum())"
   ]
  },
  {
   "cell_type": "markdown",
   "id": "92ec78ab",
   "metadata": {},
   "source": [
    "We want to get rid of them."
   ]
  },
  {
   "cell_type": "code",
   "execution_count": 11,
   "id": "4bcb7f00",
   "metadata": {},
   "outputs": [
    {
     "name": "stdout",
     "output_type": "stream",
     "text": [
      "Old size: 10000000\n",
      "New size: 9999926\n",
      "CPU times: user 1.66 s, sys: 326 ms, total: 1.98 s\n",
      "Wall time: 1.98 s\n"
     ]
    }
   ],
   "source": [
    "%%time\n",
    "print('Old size: %d' % len(train_df))\n",
    "train_df = train_df.dropna(how = 'any', axis = 'rows')\n",
    "print('New size: %d' % len(train_df))"
   ]
  },
  {
   "cell_type": "markdown",
   "id": "0bc2cd37",
   "metadata": {},
   "source": [
    "#### Quick analyze on new features and clean outliers"
   ]
  },
  {
   "cell_type": "code",
   "execution_count": 12,
   "id": "c501c429",
   "metadata": {},
   "outputs": [
    {
     "name": "stdout",
     "output_type": "stream",
     "text": [
      "CPU times: user 1.09 s, sys: 72.4 ms, total: 1.16 s\n",
      "Wall time: 1.73 s\n"
     ]
    },
    {
     "data": {
      "image/png": "[encoded data removed]",
      "text/plain": [
       "<Figure size 640x480 with 1 Axes>"
      ]
     },
     "metadata": {},
     "output_type": "display_data"
    }
   ],
   "source": [
    "%%time\n",
    "plot = train_df.iloc[:2000].plot.scatter('abs_diff_longitude', 'abs_diff_latitude')"
   ]
  },
  {
   "cell_type": "markdown",
   "id": "5dc1a641",
   "metadata": {},
   "source": [
    "70 degrees longitude seems a bit too high..."
   ]
  },
  {
   "cell_type": "code",
   "execution_count": 13,
   "id": "0ac95e8c",
   "metadata": {},
   "outputs": [
    {
     "name": "stdout",
     "output_type": "stream",
     "text": [
      "Old size: 9999926\n",
      "New size: 9979189\n",
      "CPU times: user 612 ms, sys: 368 ms, total: 979 ms\n",
      "Wall time: 977 ms\n"
     ]
    }
   ],
   "source": [
    "%%time\n",
    "print('Old size: %d' % len(train_df))\n",
    "train_df = train_df[(train_df.abs_diff_longitude < 5.0) & (train_df.abs_diff_latitude < 5.0)]\n",
    "print('New size: %d' % len(train_df))"
   ]
  },
  {
   "cell_type": "markdown",
   "id": "4d3a4eea",
   "metadata": {},
   "source": [
    "#### Get training features and results"
   ]
  },
  {
   "cell_type": "code",
   "execution_count": 14,
   "id": "f1ca5802",
   "metadata": {},
   "outputs": [
    {
     "name": "stdout",
     "output_type": "stream",
     "text": [
      "(9979189, 3)\n",
      "(9979189,)\n",
      "CPU times: user 98.6 ms, sys: 194 ms, total: 293 ms\n",
      "Wall time: 291 ms\n"
     ]
    }
   ],
   "source": [
    "%%time\n",
    "import numpy as np\n",
    "\n",
    "# using the travel vector, plus a 1.0 for a constant bias term.\n",
    "def get_input_matrix(df):\n",
    "    return np.column_stack((df.abs_diff_longitude, df.abs_diff_latitude, np.ones(len(df))))\n",
    "\n",
    "train_X = get_input_matrix(train_df)\n",
    "train_y = np.array(train_df['fare_amount'])\n",
    "\n",
    "print(train_X.shape)\n",
    "print(train_y.shape)"
   ]
  },
  {
   "cell_type": "markdown",
   "id": "836ce60e",
   "metadata": {},
   "source": [
    "#### Train a simple linear model using Numpy"
   ]
  },
  {
   "cell_type": "code",
   "execution_count": 18,
   "id": "a4d698bc",
   "metadata": {},
   "outputs": [
    {
     "name": "stdout",
     "output_type": "stream",
     "text": [
      "[148.48697     74.73346376   6.41299165]\n",
      "CPU times: user 836 ms, sys: 682 ms, total: 1.52 s\n",
      "Wall time: 774 ms\n"
     ]
    }
   ],
   "source": [
    "%%time\n",
    "# The lstsq function returns several things, and we only care about the actual weight vector w.\n",
    "(w, _, _, _) = np.linalg.lstsq(train_X, train_y, rcond = None)\n",
    "print(w)"
   ]
  },
  {
   "cell_type": "markdown",
   "id": "0b46de57",
   "metadata": {},
   "source": [
    "#### Make prediction on our test set and measure performance"
   ]
  },
  {
   "cell_type": "code",
   "execution_count": 15,
   "id": "cab29b36",
   "metadata": {},
   "outputs": [
    {
     "data": {
      "text/plain": [
       "Unnamed: 0              int64\n",
       "key                    object\n",
       "fare_amount           float64\n",
       "pickup_datetime        object\n",
       "pickup_longitude      float64\n",
       "pickup_latitude       float64\n",
       "dropoff_longitude     float64\n",
       "dropoff_latitude      float64\n",
       "passenger_count         int64\n",
       "abs_diff_longitude    float64\n",
       "abs_diff_latitude     float64\n",
       "dtype: object"
      ]
     },
     "execution_count": 15,
     "metadata": {},
     "output_type": "execute_result"
    }
   ],
   "source": [
    "test_df =  pd.read_csv('gs://obd-dask23/test_cleaned.csv', storage_options={'token': 'anon'})\n",
    "test_df.dtypes"
   ]
  },
  {
   "cell_type": "code",
   "execution_count": 16,
   "id": "a6c9d292",
   "metadata": {},
   "outputs": [],
   "source": [
    "add_travel_vector_features(test_df)\n",
    "test_X = get_input_matrix(test_df)"
   ]
  },
  {
   "cell_type": "code",
   "execution_count": 19,
   "id": "a5cf989d",
   "metadata": {},
   "outputs": [],
   "source": [
    "test_y_predictions = np.matmul(test_X, w).round(decimals = 2)"
   ]
  },
  {
   "cell_type": "code",
   "execution_count": 20,
   "id": "83a1d0d0",
   "metadata": {},
   "outputs": [],
   "source": [
    "test_y_ref = test_df.fare_amount"
   ]
  },
  {
   "cell_type": "code",
   "execution_count": 21,
   "id": "b22f5728",
   "metadata": {},
   "outputs": [
    {
     "data": {
      "text/plain": [
       "6.428124794105603"
      ]
     },
     "execution_count": 21,
     "metadata": {},
     "output_type": "execute_result"
    }
   ],
   "source": [
    "from sklearn.metrics import mean_squared_error\n",
    "mean_squared_error(test_y_ref, test_y_predictions, squared=False)"
   ]
  },
  {
   "cell_type": "markdown",
   "id": "9c732df4",
   "metadata": {},
   "source": [
    "You should get sabout 6.43 of RMSE, not bad, but we can do better."
   ]
  },
  {
   "cell_type": "markdown",
   "id": "d78fdd59",
   "metadata": {},
   "source": [
    "<span style=\"color:#EB5E0B;font-style:italic\">\n",
    "\n",
    "### Some questions on this first Analysis\n",
    "\n",
    "- What is the most expensive part of the analysis, the one that takes the most time (see the %%time we used above)?\n",
    "</span>"
   ]
  },
  {
   "cell_type": "code",
   "execution_count": null,
   "id": "ea301550",
   "metadata": {},
   "outputs": [],
   "source": [
    "#Loading the dataframe with pandas was the most expensive part of this analysis, since it lasted about 46 seconds (wall time, and 35 seconds on CPU)"
   ]
  },
  {
   "cell_type": "markdown",
   "id": "a4e331b7",
   "metadata": {},
   "source": [
    "<span style=\"color:#EB5E0B;font-style:italic\">\n",
    "    \n",
    "- Try to load the whole dataset with Pandas and comment what happens. Can you explain why?\n",
    "</span>"
   ]
  },
  {
   "cell_type": "code",
   "execution_count": null,
   "id": "42190bfa",
   "metadata": {},
   "outputs": [],
   "source": [
    "%%time\n",
    "#train_df =  pd.read_csv('gs://obd-dask23/train.csv', storage_options={'token': 'anon'})"
   ]
  },
  {
   "cell_type": "code",
   "execution_count": null,
   "id": "99a22544",
   "metadata": {},
   "outputs": [],
   "source": [
    "#The input data is just too big to fit inside memory. That is why our kernel crashed.\n",
    "#I commented the line above to avoid another crash by accident"
   ]
  },
  {
   "cell_type": "markdown",
   "id": "f478f17c",
   "metadata": {},
   "source": [
    "# Processing our data set using Dask\n",
    "\n",
    "Dask will help us process all the input data set at once. It is really useful when input data is too big to fit in memory. In this case, it can stream the computation by data chunks on one computer, or distribute the computation on several computers.\n",
    "\n",
    "This is what we'll do next!"
   ]
  },
  {
   "cell_type": "markdown",
   "id": "12c22aeb",
   "metadata": {},
   "source": [
    "### Start an appropriately sized Dask cluster for our analysis\n",
    "\n",
    "We'll need a Dask cluster to pre process the data and distribute some learning, the following code starts one in our K8S infrastructure.\n",
    "\n",
    "**Be sure to have any other Dask cluster shutdown.**"
   ]
  },
  {
   "cell_type": "code",
   "execution_count": 2,
   "id": "62d7d4b6",
   "metadata": {},
   "outputs": [],
   "source": [
    "from dask_gateway import Gateway\n",
    "gateway = Gateway()\n",
    "clusters=gateway.list_clusters()\n",
    "for cluster in clusters:\n",
    "    gateway.stop_cluster(cluster.name)"
   ]
  },
  {
   "cell_type": "code",
   "execution_count": 3,
   "id": "93f18fc8-fa16-490f-9a39-033d1829ead7",
   "metadata": {},
   "outputs": [
    {
     "data": {
      "application/vnd.jupyter.widget-view+json": {
       "model_id": "300f99baa14c4e2890d4314c9b76e4bd",
       "version_major": 2,
       "version_minor": 0
      },
      "text/plain": [
       "VBox(children=(HTML(value='<h2>GatewayCluster</h2>'), HBox(children=(HTML(value='\\n<div>\\n<style scoped>\\n    …"
      ]
     },
     "metadata": {},
     "output_type": "display_data"
    }
   ],
   "source": [
    "cluster = gateway.new_cluster(worker_cores=1, worker_memory=3.0)\n",
    "cluster"
   ]
  },
  {
   "cell_type": "markdown",
   "id": "95a329c1",
   "metadata": {},
   "source": [
    "__Please click on the Dashboard link above, it will help you a lot!__"
   ]
  },
  {
   "cell_type": "code",
   "execution_count": 9,
   "id": "f38dac5f",
   "metadata": {},
   "outputs": [],
   "source": [
    "cluster.scale(30)"
   ]
  },
  {
   "cell_type": "code",
   "execution_count": 5,
   "id": "0f33cbc8",
   "metadata": {},
   "outputs": [],
   "source": [
    "client = cluster.get_client()"
   ]
  },
  {
   "cell_type": "markdown",
   "id": "992aba71",
   "metadata": {},
   "source": [
    "### Launch some computation, what about Pi?\n",
    "\n",
    "Just to check our cluster is working!\n",
    "\n",
    "We'll use Dask array, a Numpy extension for this, we'll also use it later on for the Machine Learning part of this evaluation."
   ]
  },
  {
   "cell_type": "code",
   "execution_count": 19,
   "id": "893cedb6",
   "metadata": {},
   "outputs": [
    {
     "name": "stdout",
     "output_type": "stream",
     "text": [
      "pi ~= 3.1415999876\n",
      "CPU times: user 807 ms, sys: 119 ms, total: 927 ms\n",
      "Wall time: 1min 55s\n"
     ]
    }
   ],
   "source": [
    "%%time\n",
    "import dask.array as da\n",
    "\n",
    "sample = 10_000_000_000  # <- this is huge!\n",
    "xxyy = da.random.uniform(-1, 1, size=(2, sample))\n",
    "norm = da.linalg.norm(xxyy, axis=0)\n",
    "summ = da.sum(norm <= 1)\n",
    "insiders = summ.compute()\n",
    "pi = 4 * insiders / sample\n",
    "print(\"pi ~= {}\".format(pi))"
   ]
  },
  {
   "cell_type": "markdown",
   "id": "fbc0fd7e",
   "metadata": {},
   "source": [
    "## Now, access the data of our BE using Dask\n",
    "\n",
    "We'll use Dask Dataframe, a distributed version of Pandas Dataframe.\n",
    "\n",
    "Remember, Dask shares the same API as Pandas.\n",
    "\n",
    "See https://docs.dask.org/en/latest/dataframe.html.\n",
    "\n",
    "<br>\n",
    "<span style=\"color:#EB5E0B;font-style:italic\">\n",
    "So instead of using Pandas to load the dataset, just use the equivalent dask method from dask.dataframe.\n",
    "\n",
    "- Fill the following cell (the second one) with the appropriate code to read the data using Dask.\n",
    "</span>"
   ]
  },
  {
   "cell_type": "code",
   "execution_count": 27,
   "id": "0e2fe6e2",
   "metadata": {},
   "outputs": [],
   "source": [
    "import dask.dataframe as dd"
   ]
  },
  {
   "cell_type": "code",
   "execution_count": 28,
   "id": "6905e21e",
   "metadata": {},
   "outputs": [
    {
     "name": "stdout",
     "output_type": "stream",
     "text": [
      "CPU times: user 429 ms, sys: 34.3 ms, total: 463 ms\n",
      "Wall time: 660 ms\n"
     ]
    }
   ],
   "source": [
    "%%time\n",
    "train_df=dd.read_csv('gs://obd-dask23/train.csv', storage_options={'token': 'anon'})"
   ]
  },
  {
   "cell_type": "code",
   "execution_count": 22,
   "id": "178c1003",
   "metadata": {},
   "outputs": [
    {
     "data": {
      "text/html": [
       "<div><strong>Dask DataFrame Structure:</strong></div>\n",
       "<div>\n",
       "<style scoped>\n",
       "    .dataframe tbody tr th:only-of-type {\n",
       "        vertical-align: middle;\n",
       "    }\n",
       "\n",
       "    .dataframe tbody tr th {\n",
       "        vertical-align: top;\n",
       "    }\n",
       "\n",
       "    .dataframe thead th {\n",
       "        text-align: right;\n",
       "    }\n",
       "</style>\n",
       "<table border=\"1\" class=\"dataframe\">\n",
       "  <thead>\n",
       "    <tr style=\"text-align: right;\">\n",
       "      <th></th>\n",
       "      <th>key</th>\n",
       "      <th>fare_amount</th>\n",
       "      <th>pickup_datetime</th>\n",
       "      <th>pickup_longitude</th>\n",
       "      <th>pickup_latitude</th>\n",
       "      <th>dropoff_longitude</th>\n",
       "      <th>dropoff_latitude</th>\n",
       "      <th>passenger_count</th>\n",
       "    </tr>\n",
       "    <tr>\n",
       "      <th>npartitions=89</th>\n",
       "      <th></th>\n",
       "      <th></th>\n",
       "      <th></th>\n",
       "      <th></th>\n",
       "      <th></th>\n",
       "      <th></th>\n",
       "      <th></th>\n",
       "      <th></th>\n",
       "    </tr>\n",
       "  </thead>\n",
       "  <tbody>\n",
       "    <tr>\n",
       "      <th></th>\n",
       "      <td>string</td>\n",
       "      <td>float64</td>\n",
       "      <td>string</td>\n",
       "      <td>float64</td>\n",
       "      <td>float64</td>\n",
       "      <td>float64</td>\n",
       "      <td>float64</td>\n",
       "      <td>int64</td>\n",
       "    </tr>\n",
       "    <tr>\n",
       "      <th></th>\n",
       "      <td>...</td>\n",
       "      <td>...</td>\n",
       "      <td>...</td>\n",
       "      <td>...</td>\n",
       "      <td>...</td>\n",
       "      <td>...</td>\n",
       "      <td>...</td>\n",
       "      <td>...</td>\n",
       "    </tr>\n",
       "    <tr>\n",
       "      <th>...</th>\n",
       "      <td>...</td>\n",
       "      <td>...</td>\n",
       "      <td>...</td>\n",
       "      <td>...</td>\n",
       "      <td>...</td>\n",
       "      <td>...</td>\n",
       "      <td>...</td>\n",
       "      <td>...</td>\n",
       "    </tr>\n",
       "    <tr>\n",
       "      <th></th>\n",
       "      <td>...</td>\n",
       "      <td>...</td>\n",
       "      <td>...</td>\n",
       "      <td>...</td>\n",
       "      <td>...</td>\n",
       "      <td>...</td>\n",
       "      <td>...</td>\n",
       "      <td>...</td>\n",
       "    </tr>\n",
       "    <tr>\n",
       "      <th></th>\n",
       "      <td>...</td>\n",
       "      <td>...</td>\n",
       "      <td>...</td>\n",
       "      <td>...</td>\n",
       "      <td>...</td>\n",
       "      <td>...</td>\n",
       "      <td>...</td>\n",
       "      <td>...</td>\n",
       "    </tr>\n",
       "  </tbody>\n",
       "</table>\n",
       "</div>\n",
       "<div>Dask Name: to_pyarrow_string, 2 graph layers</div>"
      ],
      "text/plain": [
       "Dask DataFrame Structure:\n",
       "                   key fare_amount pickup_datetime pickup_longitude pickup_latitude dropoff_longitude dropoff_latitude passenger_count\n",
       "npartitions=89                                                                                                                        \n",
       "                string     float64          string          float64         float64           float64          float64           int64\n",
       "                   ...         ...             ...              ...             ...               ...              ...             ...\n",
       "...                ...         ...             ...              ...             ...               ...              ...             ...\n",
       "                   ...         ...             ...              ...             ...               ...              ...             ...\n",
       "                   ...         ...             ...              ...             ...               ...              ...             ...\n",
       "Dask Name: to_pyarrow_string, 2 graph layers"
      ]
     },
     "execution_count": 22,
     "metadata": {},
     "output_type": "execute_result"
    }
   ],
   "source": [
    "train_df"
   ]
  },
  {
   "cell_type": "markdown",
   "id": "143c5362",
   "metadata": {},
   "source": [
    "<span style=\"color:#EB5E0B;font-style:italic\">\n",
    "\n",
    "### Some questions about this data loading\n",
    "\n",
    "- That was fast for several gigabytes, wasn't it? Why is this, did we really load all the data?\n",
    "- Why the returned dataframe looks empty?\n",
    "- See the number of partitions described above? What does it correspond to? (hint, look at the blocksize parameter from https://docs.dask.org/en/latest/generated/dask.dataframe.read_csv.html). You might also get a more precise idea of what this number corresponds to with the next code execution.\n",
    "</span>"
   ]
  },
  {
   "cell_type": "markdown",
   "id": "4a933388-9149-4720-afb7-853ab75c67b7",
   "metadata": {},
   "source": [
    "**ANSWER**\n",
    "\n",
    "Dask adopt a lazy evaluation model. It means that when you load data into a Daska df, Daks doesn't immediately load the data into memory. Instead, it creates a task graph that describes the operation needed to load the data. The graph is only executer when you explicitly ask for the result of a computation (by calling .compute()). That's why the dataframe look empty. In a sense however, we really loaded the data, since Dask has prepared a plan to load the data when needed. But no in the sense that the data is not yet in memory. The loading only happens when necessary during computation.\n",
    "\n",
    "When we have loaded our data into a Dask df, it got divided into smaller partitions (chunks), each corresponding to a block of data. These partitions allow Dask to parallelize computations accross the dataset, making it suitable for distributed and out-of-core processing. "
   ]
  },
  {
   "cell_type": "markdown",
   "id": "6834c674",
   "metadata": {},
   "source": [
    "## Little warm up: Analyzing our data to better understand it"
   ]
  },
  {
   "cell_type": "markdown",
   "id": "c8cc8f8e",
   "metadata": {},
   "source": [
    "<span style=\"color:#EB5E0B;font-style:italic\">\n",
    "\n",
    "- First, how many records do we have? (hint, in python, len() works for almost any object).\n",
    "</span>"
   ]
  },
  {
   "cell_type": "code",
   "execution_count": 29,
   "id": "eff99939",
   "metadata": {},
   "outputs": [
    {
     "name": "stdout",
     "output_type": "stream",
     "text": [
      "CPU times: user 120 ms, sys: 15.2 ms, total: 135 ms\n",
      "Wall time: 2min 40s\n"
     ]
    },
    {
     "data": {
      "text/plain": [
       "55413856"
      ]
     },
     "execution_count": 29,
     "metadata": {},
     "output_type": "execute_result"
    }
   ],
   "source": [
    "%%time\n",
    "len(train_df)\n",
    "#It looks like we have 55 413 856 records"
   ]
  },
  {
   "cell_type": "markdown",
   "id": "1980192c",
   "metadata": {},
   "source": [
    "<span style=\"color:#EB5E0B;font-style:italic\">\n",
    "    \n",
    "- What did happend when counting record of our Dask dataframe (as opposed to with only the `read_csv` call? Remember with the Spark tutorial: transformations and actions... Same kind of concepts exist in Dask. Just look at the Dask Dashboard!\n",
    "</span>"
   ]
  },
  {
   "cell_type": "markdown",
   "id": "1c8fd5c5-3def-4638-bac6-5fc765585bce",
   "metadata": {},
   "source": [
    "**ANSWER**\n",
    "\n",
    "When you count the number of records in a Dask DataFrame, you're moving beyond just setting up a computation (as with the read_csv call) and actually triggering the computation to run. This distinction between setting up computations and executing them is indeed similar to the concept of transformations and actions in Spark. In Dask, this is often referred to as the difference between lazy evaluation and eager execution. \n",
    "\n",
    "**Transformations** are operations that don't compute results immediately, but instead build up a task graph (like we did when calling read_csv, but also filtering, grouping...). These operations are lazy, like we previously explained, because they don't trigger any actual data processing, they just prepare the computation plan.\n",
    "\n",
    "**Actions** are operations that trigger computation and produce results (such as .compute()). When performing actions in Dask, it executes the task graph previously built by the transformation and then actually process the data.\n",
    "\n",
    "Looking at our dashboard, we see that calling len(train_df) did load the necessary data into memory, processing it in partitions to keep memory usage manageable, then executing the taks graph, then aggregating the count results of the different parts (this operation is also part of the task graph), and finally returning the result (the number of record in the dataframe"
   ]
  },
  {
   "cell_type": "markdown",
   "id": "668942d8",
   "metadata": {},
   "source": [
    "<span style=\"color:#EB5E0B;font-style:italic\">\n",
    "    \n",
    "- Compare the time of this computation to the time of loading a subset of the Dataset with Pandas. Was it fast enough considering the number of workers we have?\n",
    "    \n",
    "I recommend trying to calculate an estimation of the time it would take with Pandas to read the entire dataset, and **total processing** time (not only the walltime) it took for every dask workers.\n",
    "</span>"
   ]
  },
  {
   "cell_type": "markdown",
   "id": "a2025840-3ce6-4c2e-a689-2a76347bc680",
   "metadata": {},
   "source": [
    "**ANSWER** \n",
    "\n",
    "In order to load 20% of the dataset earlier, it took us about 45 seconds with walltime. If we multiply it by 5, we estimate it would have taken us 225 seconds, or 3.75 minutes to load the full dataset.\n",
    "For the Dask dataset, we look at the total processing time (summing user and sys), which brings us to 60s. We used 10 workers. Theoretically, this operation should execute in 225/10=25 seconds, but that did not happen. Why ? Because of what is called *Overhead*, meaning the theoretical perfect speed-up is never attained because of task scheduling, data partitioning, aggregating and communication between workers.\n",
    "Even if we did not speed-up the computation by a factor 10, we did it with a factor 2, which is still pretty good. Maybe we could have increased a little bit the number of worker to improve performance (but this is not sure). "
   ]
  },
  {
   "cell_type": "markdown",
   "id": "e1e0f615",
   "metadata": {},
   "source": [
    "Let's have a look at some data:"
   ]
  },
  {
   "cell_type": "code",
   "execution_count": 30,
   "id": "1cba28ad",
   "metadata": {},
   "outputs": [
    {
     "name": "stdout",
     "output_type": "stream",
     "text": [
      "CPU times: user 11 ms, sys: 1.32 ms, total: 12.3 ms\n",
      "Wall time: 3.02 s\n"
     ]
    },
    {
     "data": {
      "text/html": [
       "<div>\n",
       "<style scoped>\n",
       "    .dataframe tbody tr th:only-of-type {\n",
       "        vertical-align: middle;\n",
       "    }\n",
       "\n",
       "    .dataframe tbody tr th {\n",
       "        vertical-align: top;\n",
       "    }\n",
       "\n",
       "    .dataframe thead th {\n",
       "        text-align: right;\n",
       "    }\n",
       "</style>\n",
       "<table border=\"1\" class=\"dataframe\">\n",
       "  <thead>\n",
       "    <tr style=\"text-align: right;\">\n",
       "      <th></th>\n",
       "      <th>key</th>\n",
       "      <th>fare_amount</th>\n",
       "      <th>pickup_datetime</th>\n",
       "      <th>pickup_longitude</th>\n",
       "      <th>pickup_latitude</th>\n",
       "      <th>dropoff_longitude</th>\n",
       "      <th>dropoff_latitude</th>\n",
       "      <th>passenger_count</th>\n",
       "    </tr>\n",
       "  </thead>\n",
       "  <tbody>\n",
       "    <tr>\n",
       "      <th>0</th>\n",
       "      <td>2014-10-12 23:47:39.0000002</td>\n",
       "      <td>9.00</td>\n",
       "      <td>2014-10-12 23:47:39 UTC</td>\n",
       "      <td>-73.973863</td>\n",
       "      <td>40.764248</td>\n",
       "      <td>-73.986874</td>\n",
       "      <td>40.736618</td>\n",
       "      <td>1</td>\n",
       "    </tr>\n",
       "    <tr>\n",
       "      <th>1</th>\n",
       "      <td>2012-08-17 22:34:00.000000118</td>\n",
       "      <td>4.10</td>\n",
       "      <td>2012-08-17 22:34:00 UTC</td>\n",
       "      <td>-73.997062</td>\n",
       "      <td>40.722330</td>\n",
       "      <td>-73.997642</td>\n",
       "      <td>40.729135</td>\n",
       "      <td>1</td>\n",
       "    </tr>\n",
       "    <tr>\n",
       "      <th>2</th>\n",
       "      <td>2011-05-17 13:11:00.000000229</td>\n",
       "      <td>9.70</td>\n",
       "      <td>2011-05-17 13:11:00 UTC</td>\n",
       "      <td>-74.000002</td>\n",
       "      <td>40.727167</td>\n",
       "      <td>-73.984253</td>\n",
       "      <td>40.753135</td>\n",
       "      <td>2</td>\n",
       "    </tr>\n",
       "    <tr>\n",
       "      <th>3</th>\n",
       "      <td>2015-03-08 09:10:25.0000005</td>\n",
       "      <td>57.33</td>\n",
       "      <td>2015-03-08 09:10:25 UTC</td>\n",
       "      <td>-74.004166</td>\n",
       "      <td>40.737652</td>\n",
       "      <td>-73.795753</td>\n",
       "      <td>40.644497</td>\n",
       "      <td>2</td>\n",
       "    </tr>\n",
       "    <tr>\n",
       "      <th>4</th>\n",
       "      <td>2010-03-27 19:54:44.0000001</td>\n",
       "      <td>7.30</td>\n",
       "      <td>2010-03-27 19:54:44 UTC</td>\n",
       "      <td>-73.990309</td>\n",
       "      <td>40.751309</td>\n",
       "      <td>-73.980597</td>\n",
       "      <td>40.761481</td>\n",
       "      <td>1</td>\n",
       "    </tr>\n",
       "  </tbody>\n",
       "</table>\n",
       "</div>"
      ],
      "text/plain": [
       "                             key  fare_amount          pickup_datetime  \\\n",
       "0    2014-10-12 23:47:39.0000002         9.00  2014-10-12 23:47:39 UTC   \n",
       "1  2012-08-17 22:34:00.000000118         4.10  2012-08-17 22:34:00 UTC   \n",
       "2  2011-05-17 13:11:00.000000229         9.70  2011-05-17 13:11:00 UTC   \n",
       "3    2015-03-08 09:10:25.0000005        57.33  2015-03-08 09:10:25 UTC   \n",
       "4    2010-03-27 19:54:44.0000001         7.30  2010-03-27 19:54:44 UTC   \n",
       "\n",
       "   pickup_longitude  pickup_latitude  dropoff_longitude  dropoff_latitude  \\\n",
       "0        -73.973863        40.764248         -73.986874         40.736618   \n",
       "1        -73.997062        40.722330         -73.997642         40.729135   \n",
       "2        -74.000002        40.727167         -73.984253         40.753135   \n",
       "3        -74.004166        40.737652         -73.795753         40.644497   \n",
       "4        -73.990309        40.751309         -73.980597         40.761481   \n",
       "\n",
       "   passenger_count  \n",
       "0                1  \n",
       "1                1  \n",
       "2                2  \n",
       "3                2  \n",
       "4                1  "
      ]
     },
     "execution_count": 30,
     "metadata": {},
     "output_type": "execute_result"
    }
   ],
   "source": [
    "%%time\n",
    "train_df.head()"
   ]
  },
  {
   "cell_type": "markdown",
   "id": "c84867e4",
   "metadata": {},
   "source": [
    "<span style=\"color:#EB5E0B;font-style:italic\">\n",
    "    \n",
    "- Why was it faster than counting all the records above? \n",
    "- What did we actualy read? You might want to look at the Dashboard for some hinsights. Remember that Dask laziness is not only about transformations and actions, but optimizing the computations needed.\n",
    "</span>"
   ]
  },
  {
   "cell_type": "markdown",
   "id": "03c852e0-41d8-41e5-9b41-989cc96ed932",
   "metadata": {},
   "source": [
    "**ANSWER**\n",
    "\n",
    "It was much faster than counting all the records ! When looking at the dashboard, we can see that only one worker was called with a to_pyarrow_string task. It is a method known to convert different objects (such as ou dataset first 5 rows) into string in a noticable really fast why. This method was probably chosen on purpose in order to accelerate the computation, highlighting the optimization of computation at all levels. When looking at this task into details, we notice that in the end, strings ar finally casted back to their original type with the .astype() method.\n",
    "Also, it is pretty clear that loading only the first five lines of the dataset should be much faster than crawling all its records like the len() method forced us to do. We took advantage of the partition into chunks in order to optimize computation."
   ]
  },
  {
   "cell_type": "markdown",
   "id": "81342f11",
   "metadata": {},
   "source": [
    "<span style=\"color:#EB5E0B;font-style:italic\">\n",
    "    \n",
    "- Let's compute the mean of the fare amount given the passengers count, **as we've done with Pandas above**. Please fill the blank. (hint: Dask is the same as pandas, but often with a `compute()` call at the end)\n",
    "</span>"
   ]
  },
  {
   "cell_type": "code",
   "execution_count": 31,
   "id": "c56ddf62",
   "metadata": {},
   "outputs": [
    {
     "name": "stdout",
     "output_type": "stream",
     "text": [
      "CPU times: user 78.1 ms, sys: 10.7 ms, total: 88.7 ms\n",
      "Wall time: 1min 8s\n"
     ]
    },
    {
     "data": {
      "text/plain": [
       "passenger_count\n",
       "0       9.015400\n",
       "1      11.216398\n",
       "2      11.838426\n",
       "3      11.540684\n",
       "4      11.766121\n",
       "5      11.208482\n",
       "6      12.126306\n",
       "8      29.981111\n",
       "208     8.975000\n",
       "51      9.300000\n",
       "129     8.900000\n",
       "7      31.788667\n",
       "9      36.993043\n",
       "34     13.300000\n",
       "49      2.500000\n",
       "Name: fare_amount, dtype: float64"
      ]
     },
     "execution_count": 31,
     "metadata": {},
     "output_type": "execute_result"
    }
   ],
   "source": [
    "%%time\n",
    "train_df.groupby(train_df.passenger_count).fare_amount.mean().compute()"
   ]
  },
  {
   "cell_type": "markdown",
   "id": "121f1dbf",
   "metadata": {},
   "source": [
    "Wow, ever seen a cab with more than **200 people**?? Americans are crazy. And it's cheap...\n",
    "\n",
    "<br>\n",
    "\n",
    "<span style=\"color:#EB5E0B;font-style:italic\">\n",
    "\n",
    "- This computation is slow, especially compared with Pandas, why? (Look a the Dashboard, again).\n",
    "- Which part of the computation is slow, look at the Dashboard to see the name of the tasks. Hint, this is the same as Pandas.\n",
    "</span>"
   ]
  },
  {
   "cell_type": "markdown",
   "id": "92c2e0d9-5aed-44da-b3b5-65e433a8c647",
   "metadata": {},
   "source": [
    "**ANSWER**\n",
    "\n",
    "Dask breaks down computation into tasks that can be executed in parallel. However, scheduling and managing these tasks introduce overhead (as we specified before). For operations that are not highly compute-intensive, the overhead of task management can outweight the benefits of parallel execution. There's an inherent cost in moving data between worked, this is particularly important for group-by operations, which may require significant data shuffling to group records by keys before computing the mean. Pandas operates in-memory and is highly optimized for single-threaded performance. For datasets that fit into memory, Pandas can often perform computations like group-by and mean very quickly. The simplicity of operating in a single process without the need to manage parallel tasks or handle data distribution can make Pandas faster for these types of operations.\n",
    "\n",
    "When looking at the dashboard, our hypothese is confirmed : the worst-performing (taking longer) task is the .getItem() method. The groupby-count-chunk and groupby-sum-chunk did only take 2 seconds, while the getItem did take 272 seconds (partitionned between all workers). "
   ]
  },
  {
   "cell_type": "markdown",
   "id": "5ff37ce7",
   "metadata": {},
   "source": [
    "<span style=\"color:#EB5E0B;font-style:italic\">\n",
    "    \n",
    "- How could we optimize the next computations, using which Dask method? Same as Spark...\n",
    "- Where will be the data at the end of the computation triggered by this call?\n",
    "</span>"
   ]
  },
  {
   "cell_type": "markdown",
   "id": "2c314cb9-1293-4aec-bd81-27e376c62419",
   "metadata": {},
   "source": [
    "**ANSWER**\n",
    "\n",
    "To optimize computations in Dask, especially for operations executed repeatedly, or requiring significant data shuffling ( such as group-by), we can use the persist method. This approach is similar to what we did previously with Spark, and can significantly improve performance for iterative computation or when needing to access the same dataset multiple times. \n",
    "The persist method evaluates the computation up to the current point, and keeps the resulting dataset in memory (or on disk) accross the cluster. After calling persist, the dataset will be kept in distributed memory accross the cluster's workers, and subsequent operations (transformations, actions), will be much faster. Any future computation of the persisted data will start from the in-memory state of the data. "
   ]
  },
  {
   "cell_type": "code",
   "execution_count": 95,
   "id": "26f10c20-82ec-49d9-a16e-a7353a506cab",
   "metadata": {},
   "outputs": [],
   "source": [
    "train_df=dd.read_csv('gs://obd-dask23/train.csv', storage_options={'token': 'anon'}).persist()"
   ]
  },
  {
   "cell_type": "markdown",
   "id": "49397217",
   "metadata": {},
   "source": [
    "<span style=\"color:#EB5E0B;font-style:italic\">\n",
    "    \n",
    "- Look at the Dashboard at what is happening beind the scene.\n",
    "    \n",
    "Wait for the end of this call on the Dashboard, then try again the previous computation on fare_amout.mean():\n",
    "</span>"
   ]
  },
  {
   "cell_type": "code",
   "execution_count": 34,
   "id": "8a9fa8fb",
   "metadata": {},
   "outputs": [
    {
     "name": "stdout",
     "output_type": "stream",
     "text": [
      "CPU times: user 78.5 ms, sys: 9.56 ms, total: 88 ms\n",
      "Wall time: 28.8 s\n"
     ]
    },
    {
     "data": {
      "text/plain": [
       "passenger_count\n",
       "0       9.015400\n",
       "1      11.216398\n",
       "2      11.838426\n",
       "3      11.540684\n",
       "4      11.766121\n",
       "5      11.208482\n",
       "6      12.126306\n",
       "8      29.981111\n",
       "208     8.975000\n",
       "51      9.300000\n",
       "129     8.900000\n",
       "7      31.788667\n",
       "9      36.993043\n",
       "34     13.300000\n",
       "49      2.500000\n",
       "Name: fare_amount, dtype: float64"
      ]
     },
     "execution_count": 34,
     "metadata": {},
     "output_type": "execute_result"
    }
   ],
   "source": [
    "%%time\n",
    "train_df.groupby(train_df.passenger_count).fare_amount.mean().compute()"
   ]
  },
  {
   "cell_type": "markdown",
   "id": "ddadf8d3",
   "metadata": {},
   "source": [
    "Much better isn't it?"
   ]
  },
  {
   "cell_type": "markdown",
   "id": "00bf8179",
   "metadata": {},
   "source": [
    "## Let's do some preprocessing of our data to clean it up and add some features\n",
    "\n",
    "<br>\n",
    "\n",
    "<span style=\"color:#EB5E0B;font-style:italic\">\n",
    "- You'll need to do the same operations as in pandas, we just need to call compute when needing a result, and not compute when building our dataframe transformations.\n",
    "</span>"
   ]
  },
  {
   "cell_type": "markdown",
   "id": "6adffd39",
   "metadata": {},
   "source": [
    "<span style=\"color:#EB5E0B;font-style:italic\">\n",
    "\n",
    "#### Cleaning up\n",
    "\n",
    "- Is there some null values in our data?\n",
    "</span>"
   ]
  },
  {
   "cell_type": "code",
   "execution_count": 13,
   "id": "8fbea246",
   "metadata": {},
   "outputs": [
    {
     "name": "stdout",
     "output_type": "stream",
     "text": [
      "key                    0\n",
      "fare_amount            0\n",
      "pickup_datetime        0\n",
      "pickup_longitude       0\n",
      "pickup_latitude        0\n",
      "dropoff_longitude    376\n",
      "dropoff_latitude     376\n",
      "passenger_count        0\n",
      "dtype: int64\n"
     ]
    }
   ],
   "source": [
    "print(train_df.isnull().sum().compute())"
   ]
  },
  {
   "cell_type": "markdown",
   "id": "f50fd4c3",
   "metadata": {},
   "source": [
    "<span style=\"color:#EB5E0B;font-style:italic\">\n",
    "    \n",
    "- Yep! We must get rid of them...\n",
    "</span>"
   ]
  },
  {
   "cell_type": "code",
   "execution_count": 96,
   "id": "c2ff9453",
   "metadata": {},
   "outputs": [
    {
     "name": "stdout",
     "output_type": "stream",
     "text": [
      "CPU times: user 7.74 ms, sys: 1.92 ms, total: 9.66 ms\n",
      "Wall time: 8.64 ms\n"
     ]
    }
   ],
   "source": [
    "%%time\n",
    "train_df = train_df.dropna(how = 'any')"
   ]
  },
  {
   "cell_type": "code",
   "execution_count": 59,
   "id": "a8379f88-43cd-459b-9aa4-5aea332c2931",
   "metadata": {},
   "outputs": [
    {
     "name": "stdout",
     "output_type": "stream",
     "text": [
      "key                  0\n",
      "fare_amount          0\n",
      "pickup_datetime      0\n",
      "pickup_longitude     0\n",
      "pickup_latitude      0\n",
      "dropoff_longitude    0\n",
      "dropoff_latitude     0\n",
      "passenger_count      0\n",
      "dtype: int64\n"
     ]
    }
   ],
   "source": [
    "print(train_df.isnull().sum().compute())"
   ]
  },
  {
   "cell_type": "markdown",
   "id": "73a1f1b5",
   "metadata": {},
   "source": [
    "#### Adding features\n",
    "\n",
    "<span style=\"color:#EB5E0B;font-style:italic\">\n",
    "\n",
    "- As with Pandas above, add the latitude and longitude distance vector with a function call\n",
    "</span>"
   ]
  },
  {
   "cell_type": "code",
   "execution_count": 97,
   "id": "9a108c7d",
   "metadata": {},
   "outputs": [],
   "source": [
    "## Answer needed here. We define a function here, cause we'll need to apply it on our test dataframe too later on!\n",
    "def add_travel_vector_features(df):\n",
    "    df['abs_diff_longitude'] = (df.dropoff_longitude - df.pickup_longitude).abs()\n",
    "    df['abs_diff_latitude'] = (df.dropoff_latitude - df.pickup_latitude).abs()\n",
    "add_travel_vector_features(train_df)"
   ]
  },
  {
   "cell_type": "markdown",
   "id": "162dafb7",
   "metadata": {},
   "source": [
    "A quick look at our Dataframe to check things"
   ]
  },
  {
   "cell_type": "code",
   "execution_count": 18,
   "id": "13573f87",
   "metadata": {},
   "outputs": [
    {
     "data": {
      "text/html": [
       "<div>\n",
       "<style scoped>\n",
       "    .dataframe tbody tr th:only-of-type {\n",
       "        vertical-align: middle;\n",
       "    }\n",
       "\n",
       "    .dataframe tbody tr th {\n",
       "        vertical-align: top;\n",
       "    }\n",
       "\n",
       "    .dataframe thead th {\n",
       "        text-align: right;\n",
       "    }\n",
       "</style>\n",
       "<table border=\"1\" class=\"dataframe\">\n",
       "  <thead>\n",
       "    <tr style=\"text-align: right;\">\n",
       "      <th></th>\n",
       "      <th>key</th>\n",
       "      <th>fare_amount</th>\n",
       "      <th>pickup_datetime</th>\n",
       "      <th>pickup_longitude</th>\n",
       "      <th>pickup_latitude</th>\n",
       "      <th>dropoff_longitude</th>\n",
       "      <th>dropoff_latitude</th>\n",
       "      <th>passenger_count</th>\n",
       "      <th>abs_diff_longitude</th>\n",
       "      <th>abs_diff_latitude</th>\n",
       "    </tr>\n",
       "  </thead>\n",
       "  <tbody>\n",
       "    <tr>\n",
       "      <th>0</th>\n",
       "      <td>2014-10-12 23:47:39.0000002</td>\n",
       "      <td>9.00</td>\n",
       "      <td>2014-10-12 23:47:39 UTC</td>\n",
       "      <td>-73.973863</td>\n",
       "      <td>40.764248</td>\n",
       "      <td>-73.986874</td>\n",
       "      <td>40.736618</td>\n",
       "      <td>1</td>\n",
       "      <td>0.013011</td>\n",
       "      <td>0.027630</td>\n",
       "    </tr>\n",
       "    <tr>\n",
       "      <th>1</th>\n",
       "      <td>2012-08-17 22:34:00.000000118</td>\n",
       "      <td>4.10</td>\n",
       "      <td>2012-08-17 22:34:00 UTC</td>\n",
       "      <td>-73.997062</td>\n",
       "      <td>40.722330</td>\n",
       "      <td>-73.997642</td>\n",
       "      <td>40.729135</td>\n",
       "      <td>1</td>\n",
       "      <td>0.000580</td>\n",
       "      <td>0.006805</td>\n",
       "    </tr>\n",
       "    <tr>\n",
       "      <th>2</th>\n",
       "      <td>2011-05-17 13:11:00.000000229</td>\n",
       "      <td>9.70</td>\n",
       "      <td>2011-05-17 13:11:00 UTC</td>\n",
       "      <td>-74.000002</td>\n",
       "      <td>40.727167</td>\n",
       "      <td>-73.984253</td>\n",
       "      <td>40.753135</td>\n",
       "      <td>2</td>\n",
       "      <td>0.015749</td>\n",
       "      <td>0.025968</td>\n",
       "    </tr>\n",
       "    <tr>\n",
       "      <th>3</th>\n",
       "      <td>2015-03-08 09:10:25.0000005</td>\n",
       "      <td>57.33</td>\n",
       "      <td>2015-03-08 09:10:25 UTC</td>\n",
       "      <td>-74.004166</td>\n",
       "      <td>40.737652</td>\n",
       "      <td>-73.795753</td>\n",
       "      <td>40.644497</td>\n",
       "      <td>2</td>\n",
       "      <td>0.208412</td>\n",
       "      <td>0.093155</td>\n",
       "    </tr>\n",
       "    <tr>\n",
       "      <th>4</th>\n",
       "      <td>2010-03-27 19:54:44.0000001</td>\n",
       "      <td>7.30</td>\n",
       "      <td>2010-03-27 19:54:44 UTC</td>\n",
       "      <td>-73.990309</td>\n",
       "      <td>40.751309</td>\n",
       "      <td>-73.980597</td>\n",
       "      <td>40.761481</td>\n",
       "      <td>1</td>\n",
       "      <td>0.009712</td>\n",
       "      <td>0.010172</td>\n",
       "    </tr>\n",
       "  </tbody>\n",
       "</table>\n",
       "</div>"
      ],
      "text/plain": [
       "                             key  fare_amount          pickup_datetime  \\\n",
       "0    2014-10-12 23:47:39.0000002         9.00  2014-10-12 23:47:39 UTC   \n",
       "1  2012-08-17 22:34:00.000000118         4.10  2012-08-17 22:34:00 UTC   \n",
       "2  2011-05-17 13:11:00.000000229         9.70  2011-05-17 13:11:00 UTC   \n",
       "3    2015-03-08 09:10:25.0000005        57.33  2015-03-08 09:10:25 UTC   \n",
       "4    2010-03-27 19:54:44.0000001         7.30  2010-03-27 19:54:44 UTC   \n",
       "\n",
       "   pickup_longitude  pickup_latitude  dropoff_longitude  dropoff_latitude  \\\n",
       "0        -73.973863        40.764248         -73.986874         40.736618   \n",
       "1        -73.997062        40.722330         -73.997642         40.729135   \n",
       "2        -74.000002        40.727167         -73.984253         40.753135   \n",
       "3        -74.004166        40.737652         -73.795753         40.644497   \n",
       "4        -73.990309        40.751309         -73.980597         40.761481   \n",
       "\n",
       "   passenger_count  abs_diff_longitude  abs_diff_latitude  \n",
       "0                1            0.013011           0.027630  \n",
       "1                1            0.000580           0.006805  \n",
       "2                2            0.015749           0.025968  \n",
       "3                2            0.208412           0.093155  \n",
       "4                1            0.009712           0.010172  "
      ]
     },
     "execution_count": 18,
     "metadata": {},
     "output_type": "execute_result"
    }
   ],
   "source": [
    "train_df.head()"
   ]
  },
  {
   "cell_type": "markdown",
   "id": "df7cfc5f",
   "metadata": {},
   "source": [
    "<span style=\"color:#EB5E0B;font-style:italic\">\n",
    "    \n",
    "- Now let's quickly plot a subset of our travel vector features to see its distribution. Use dask.dataframe.sample() to get about 1 percent of the rows, and get it back with compute and plot as we've done it with Pandas\n",
    "</span>"
   ]
  },
  {
   "cell_type": "code",
   "execution_count": 37,
   "id": "09f457c6",
   "metadata": {},
   "outputs": [
    {
     "name": "stdout",
     "output_type": "stream",
     "text": [
      "CPU times: user 2 µs, sys: 1e+03 ns, total: 3 µs\n",
      "Wall time: 6.44 µs\n"
     ]
    },
    {
     "data": {
      "image/png": "[encoded data removed]",
      "text/plain": [
       "<Figure size 640x480 with 1 Axes>"
      ]
     },
     "metadata": {},
     "output_type": "display_data"
    }
   ],
   "source": [
    "import matplotlib.pyplot as plt\n",
    "\n",
    "%time\n",
    "\n",
    "# Sample approximately 1% of the data\n",
    "sampled_df = train_df.sample(frac=0.01).compute()\n",
    "\n",
    "plot = sampled_df.plot.scatter('abs_diff_longitude', 'abs_diff_latitude')"
   ]
  },
  {
   "cell_type": "markdown",
   "id": "36182399",
   "metadata": {},
   "source": [
    "Wow, looks like we have some strange values here: more than 1000° of distance... There's a problem somewhere.\n",
    "\n",
    "<br>\n",
    "\n",
    "<span style=\"color:#EB5E0B;font-style:italic\">\n",
    "- Just get rid of the extreme values, we should keep only values inside the city wall or so. Like with Pandas above...\n",
    "</span>"
   ]
  },
  {
   "cell_type": "code",
   "execution_count": 98,
   "id": "3e3286a7",
   "metadata": {},
   "outputs": [
    {
     "name": "stdout",
     "output_type": "stream",
     "text": [
      "CPU times: user 4.74 ms, sys: 60 µs, total: 4.8 ms\n",
      "Wall time: 4.63 ms\n"
     ]
    }
   ],
   "source": [
    "%%time\n",
    "\n",
    "train_df = train_df[(train_df.abs_diff_longitude < 5) & (train_df.abs_diff_latitude < 5)]"
   ]
  },
  {
   "cell_type": "markdown",
   "id": "3dfc1f4a",
   "metadata": {},
   "source": [
    "<span style=\"color:#EB5E0B;font-style:italic\">\n",
    "\n",
    "- you can do another plot like above with the filtered values if you like.\n",
    "</span>"
   ]
  },
  {
   "cell_type": "code",
   "execution_count": 39,
   "id": "45edd5d5",
   "metadata": {},
   "outputs": [
    {
     "data": {
      "image/png": "[encoded data removed]",
      "text/plain": [
       "<Figure size 640x480 with 1 Axes>"
      ]
     },
     "metadata": {},
     "output_type": "display_data"
    }
   ],
   "source": [
    "sampled_df = train_df.sample(frac=0.01).compute()\n",
    "\n",
    "plot = sampled_df.plot.scatter('abs_diff_longitude', 'abs_diff_latitude')"
   ]
  },
  {
   "cell_type": "markdown",
   "id": "8a525ada",
   "metadata": {},
   "source": [
    "Ok, let's see some statistics on our Dataset. The describe() function inherited from Pandas compute a lot of statistics on a dataframe."
   ]
  },
  {
   "cell_type": "code",
   "execution_count": 40,
   "id": "d49070ec",
   "metadata": {},
   "outputs": [
    {
     "data": {
      "text/html": [
       "<div>\n",
       "<style scoped>\n",
       "    .dataframe tbody tr th:only-of-type {\n",
       "        vertical-align: middle;\n",
       "    }\n",
       "\n",
       "    .dataframe tbody tr th {\n",
       "        vertical-align: top;\n",
       "    }\n",
       "\n",
       "    .dataframe thead th {\n",
       "        text-align: right;\n",
       "    }\n",
       "</style>\n",
       "<table border=\"1\" class=\"dataframe\">\n",
       "  <thead>\n",
       "    <tr style=\"text-align: right;\">\n",
       "      <th></th>\n",
       "      <th>fare_amount</th>\n",
       "      <th>pickup_longitude</th>\n",
       "      <th>pickup_latitude</th>\n",
       "      <th>dropoff_longitude</th>\n",
       "      <th>dropoff_latitude</th>\n",
       "      <th>passenger_count</th>\n",
       "      <th>abs_diff_longitude</th>\n",
       "      <th>abs_diff_latitude</th>\n",
       "    </tr>\n",
       "  </thead>\n",
       "  <tbody>\n",
       "    <tr>\n",
       "      <th>count</th>\n",
       "      <td>5.529894e+07</td>\n",
       "      <td>5.529894e+07</td>\n",
       "      <td>5.529894e+07</td>\n",
       "      <td>5.529894e+07</td>\n",
       "      <td>5.529894e+07</td>\n",
       "      <td>5.529894e+07</td>\n",
       "      <td>5.529894e+07</td>\n",
       "      <td>5.529894e+07</td>\n",
       "    </tr>\n",
       "    <tr>\n",
       "      <th>mean</th>\n",
       "      <td>1.133683e+01</td>\n",
       "      <td>-7.257290e+01</td>\n",
       "      <td>3.995280e+01</td>\n",
       "      <td>-7.257205e+01</td>\n",
       "      <td>3.995314e+01</td>\n",
       "      <td>1.685440e+00</td>\n",
       "      <td>2.251316e-02</td>\n",
       "      <td>2.110157e-02</td>\n",
       "    </tr>\n",
       "    <tr>\n",
       "      <th>std</th>\n",
       "      <td>2.071499e+01</td>\n",
       "      <td>1.094742e+01</td>\n",
       "      <td>7.044005e+00</td>\n",
       "      <td>1.094731e+01</td>\n",
       "      <td>7.044055e+00</td>\n",
       "      <td>1.326790e+00</td>\n",
       "      <td>3.854502e-02</td>\n",
       "      <td>2.903143e-02</td>\n",
       "    </tr>\n",
       "    <tr>\n",
       "      <th>min</th>\n",
       "      <td>-3.000000e+02</td>\n",
       "      <td>-3.440696e+03</td>\n",
       "      <td>-3.488080e+03</td>\n",
       "      <td>-3.440696e+03</td>\n",
       "      <td>-3.488080e+03</td>\n",
       "      <td>0.000000e+00</td>\n",
       "      <td>0.000000e+00</td>\n",
       "      <td>0.000000e+00</td>\n",
       "    </tr>\n",
       "    <tr>\n",
       "      <th>25%</th>\n",
       "      <td>6.000000e+00</td>\n",
       "      <td>-7.399201e+01</td>\n",
       "      <td>4.073514e+01</td>\n",
       "      <td>-7.399136e+01</td>\n",
       "      <td>4.073421e+01</td>\n",
       "      <td>1.000000e+00</td>\n",
       "      <td>5.827000e-03</td>\n",
       "      <td>6.606000e-03</td>\n",
       "    </tr>\n",
       "    <tr>\n",
       "      <th>50%</th>\n",
       "      <td>8.500000e+00</td>\n",
       "      <td>-7.398174e+01</td>\n",
       "      <td>4.075281e+01</td>\n",
       "      <td>-7.398010e+01</td>\n",
       "      <td>4.075332e+01</td>\n",
       "      <td>1.000000e+00</td>\n",
       "      <td>1.244900e-02</td>\n",
       "      <td>1.387000e-02</td>\n",
       "    </tr>\n",
       "    <tr>\n",
       "      <th>75%</th>\n",
       "      <td>1.250000e+01</td>\n",
       "      <td>-7.396703e+01</td>\n",
       "      <td>4.076725e+01</td>\n",
       "      <td>-7.396365e+01</td>\n",
       "      <td>4.076821e+01</td>\n",
       "      <td>2.000000e+00</td>\n",
       "      <td>2.370300e-02</td>\n",
       "      <td>2.697000e-02</td>\n",
       "    </tr>\n",
       "    <tr>\n",
       "      <th>max</th>\n",
       "      <td>9.396336e+04</td>\n",
       "      <td>3.456223e+03</td>\n",
       "      <td>3.378013e+03</td>\n",
       "      <td>3.456223e+03</td>\n",
       "      <td>3.378013e+03</td>\n",
       "      <td>2.080000e+02</td>\n",
       "      <td>4.989833e+00</td>\n",
       "      <td>4.991325e+00</td>\n",
       "    </tr>\n",
       "  </tbody>\n",
       "</table>\n",
       "</div>"
      ],
      "text/plain": [
       "        fare_amount  pickup_longitude  pickup_latitude  dropoff_longitude  \\\n",
       "count  5.529894e+07      5.529894e+07     5.529894e+07       5.529894e+07   \n",
       "mean   1.133683e+01     -7.257290e+01     3.995280e+01      -7.257205e+01   \n",
       "std    2.071499e+01      1.094742e+01     7.044005e+00       1.094731e+01   \n",
       "min   -3.000000e+02     -3.440696e+03    -3.488080e+03      -3.440696e+03   \n",
       "25%    6.000000e+00     -7.399201e+01     4.073514e+01      -7.399136e+01   \n",
       "50%    8.500000e+00     -7.398174e+01     4.075281e+01      -7.398010e+01   \n",
       "75%    1.250000e+01     -7.396703e+01     4.076725e+01      -7.396365e+01   \n",
       "max    9.396336e+04      3.456223e+03     3.378013e+03       3.456223e+03   \n",
       "\n",
       "       dropoff_latitude  passenger_count  abs_diff_longitude  \\\n",
       "count      5.529894e+07     5.529894e+07        5.529894e+07   \n",
       "mean       3.995314e+01     1.685440e+00        2.251316e-02   \n",
       "std        7.044055e+00     1.326790e+00        3.854502e-02   \n",
       "min       -3.488080e+03     0.000000e+00        0.000000e+00   \n",
       "25%        4.073421e+01     1.000000e+00        5.827000e-03   \n",
       "50%        4.075332e+01     1.000000e+00        1.244900e-02   \n",
       "75%        4.076821e+01     2.000000e+00        2.370300e-02   \n",
       "max        3.378013e+03     2.080000e+02        4.989833e+00   \n",
       "\n",
       "       abs_diff_latitude  \n",
       "count       5.529894e+07  \n",
       "mean        2.110157e-02  \n",
       "std         2.903143e-02  \n",
       "min         0.000000e+00  \n",
       "25%         6.606000e-03  \n",
       "50%         1.387000e-02  \n",
       "75%         2.697000e-02  \n",
       "max         4.991325e+00  "
      ]
     },
     "execution_count": 40,
     "metadata": {},
     "output_type": "execute_result"
    }
   ],
   "source": [
    "train_df.describe().compute()"
   ]
  },
  {
   "cell_type": "markdown",
   "id": "8e7ec27e",
   "metadata": {},
   "source": [
    "<span style=\"color:#EB5E0B;font-style:italic\">\n",
    "    \n",
    "- Find some values (at least two) that still looks odd to you in the table above.\n",
    "</span>"
   ]
  },
  {
   "cell_type": "markdown",
   "id": "bd4bebbd-a2f0-45bc-98dc-dbbb78f204cb",
   "metadata": {},
   "source": [
    "**ANSWER**\n",
    "\n",
    "The minimum fare is negative, and the maximum fare is 93,963$, which is unlikely. Also, the min_passenger count is 0, which is also unlikely for a taxi. After doing some research, normal longitudes in New-York should be situated between -74.3 and -73.7, and normal latitudes between 40.5 and 40.9. Let's clean all of this. \n"
   ]
  },
  {
   "cell_type": "code",
   "execution_count": 1,
   "id": "3c16be8e-ad41-4a77-b047-29abfb6458f6",
   "metadata": {},
   "outputs": [],
   "source": [
    "def haversine_distance(lon1, lat1, lon2, lat2):\n",
    "    \"\"\"\n",
    "    Calculate the Haversine distance between two points given their longitude and latitude.\n",
    "    \"\"\"\n",
    "    # Earth radius in kilometers\n",
    "    R = 6371.0\n",
    "    \n",
    "    # Convert latitude and longitude from degrees to radians\n",
    "    lon1_rad = np.radians(lon1)\n",
    "    lat1_rad = np.radians(lat1)\n",
    "    lon2_rad = np.radians(lon2)\n",
    "    lat2_rad = np.radians(lat2)\n",
    "    \n",
    "    # Calculate differences in longitude and latitude\n",
    "    dlon = lon2_rad - lon1_rad\n",
    "    dlat = lat2_rad - lat1_rad\n",
    "    \n",
    "    # Calculate Haversine formula\n",
    "    a = np.sin(dlat / 2)**2 + np.cos(lat1_rad) * np.cos(lat2_rad) * np.sin(dlon / 2)**2\n",
    "    c = 2 * np.arctan2(np.sqrt(a), np.sqrt(1 - a))\n",
    "    distance = R * c\n",
    "    \n",
    "    return distance"
   ]
  },
  {
   "cell_type": "code",
   "execution_count": 6,
   "id": "f5a909f6-b96d-467a-afb3-36e2c46cc893",
   "metadata": {},
   "outputs": [
    {
     "name": "stdout",
     "output_type": "stream",
     "text": [
      "        fare_amount      pickup_datetime  pickup_longitude  pickup_latitude  \\\n",
      "count  5.406130e+07             54061296      5.406130e+07     5.406130e+07   \n",
      "min   -1.167535e+00  2009-01-01 00:00:27     -3.383909e+01    -3.887521e+01   \n",
      "25%   -5.497328e-01  2010-08-17 21:00:15     -4.359663e-01    -4.481609e-01   \n",
      "50%   -2.918854e-01  2012-03-25 00:06:09     -1.756986e-01     8.092874e-02   \n",
      "75%    1.206704e-01  2013-10-23 16:07:03      1.778943e-01     5.256596e-01   \n",
      "max    9.970134e+01  2015-06-30 23:59:54      3.242341e+01     2.352404e+01   \n",
      "mean   2.621296e-17                 <NA>     -7.779391e-14    -2.807909e-14   \n",
      "std    1.000000e+00                 <NA>      1.000000e+00     1.000000e+00   \n",
      "\n",
      "       dropoff_longitude  dropoff_latitude  passenger_count   hour_of_day  \\\n",
      "count       5.406130e+07      5.406130e+07     5.406130e+07  5.406130e+07   \n",
      "min        -3.456088e+01     -3.572656e+01    -5.261134e-01 -2.073170e+00   \n",
      "25%        -4.490522e-01     -4.429558e-01    -5.261134e-01 -6.921124e-01   \n",
      "50%        -1.621297e-01      7.713077e-02    -5.261134e-01  7.514166e-02   \n",
      "75%         2.374181e-01      4.912066e-01     2.350704e-01  8.423957e-01   \n",
      "max         3.316510e+01      2.138257e+01     1.570389e+02  1.456199e+00   \n",
      "mean       -2.030031e-13     -1.288561e-13     1.851362e-18 -7.816571e-17   \n",
      "std         1.000000e+00      1.000000e+00     1.000000e+00  1.000000e+00   \n",
      "\n",
      "        day_of_week         month  abs_diff_longitude  abs_diff_latitude  \\\n",
      "count  5.406130e+07  5.406130e+07        5.406130e+07       5.406130e+07   \n",
      "min    0.000000e+00 -1.533333e+00        0.000000e+00       0.000000e+00   \n",
      "25%    1.000000e+00 -9.513289e-01        6.168000e-03       6.962000e-03   \n",
      "50%    3.000000e+00 -7.832334e-02        1.274000e-02       1.421000e-02   \n",
      "75%    5.000000e+00  7.946823e-01        2.403000e-02       2.734600e-02   \n",
      "max    6.000000e+00  1.667688e+00        1.539527e+00       1.547080e+00   \n",
      "mean   3.041093e+00  1.020528e-16        2.281184e-02       2.144605e-02   \n",
      "std    1.949116e+00  1.000000e+00        3.527562e-02       2.687701e-02   \n",
      "\n",
      "           distance  pickup_longitude_squared  pickup_latitude_squared  \\\n",
      "count  5.406130e+07              5.406130e+07             5.406130e+07   \n",
      "min   -8.368557e-01             -3.383909e+01            -3.887521e+01   \n",
      "25%   -5.220057e-01             -4.359663e-01            -4.481609e-01   \n",
      "50%   -2.960123e-01             -1.756986e-01             6.549461e-03   \n",
      "75%    1.464102e-01              3.164639e-02             2.763180e-01   \n",
      "max    4.290619e+01              1.051277e+03             5.533804e+02   \n",
      "mean   1.191622e-16              5.488670e-01             1.098032e-01   \n",
      "std    1.000000e+00              9.547147e+00             7.208517e+00   \n",
      "\n",
      "       dropoff_longitude_squared  dropoff_latitude_squared  distance_squared  \n",
      "count               5.406130e+07              5.406130e+07      5.406130e+07  \n",
      "min                -3.456088e+01             -3.572656e+01     -8.368557e-01  \n",
      "25%                -4.490522e-01             -4.429558e-01     -5.220057e-01  \n",
      "50%                -1.621297e-01              5.949156e-03     -2.960123e-01  \n",
      "75%                 5.636738e-02              2.412839e-01      2.143595e-02  \n",
      "max                 1.099924e+03              4.572145e+02      1.840941e+03  \n",
      "mean                4.767107e-01              1.163003e-01      5.507559e-01  \n",
      "std                 9.112750e+00              5.487889e+00      1.255466e+01  \n"
     ]
    }
   ],
   "source": [
    "import dask.dataframe as dd\n",
    "from dask_ml.preprocessing import StandardScaler\n",
    "import numpy as np\n",
    "\n",
    "train_df = dd.read_csv('gs://obd-dask23/train.csv', storage_options={'token': 'anon'}).persist()\n",
    "\n",
    "#Drop NA values\n",
    "train_df = train_df.dropna(how='any')\n",
    "\n",
    "#load and convert Data time\n",
    "train_df['pickup_datetime'] = dd.to_datetime(train_df['pickup_datetime'], utc=True)\n",
    "# Extract hour and month\n",
    "train_df['hour_of_day'] = train_df['pickup_datetime'].dt.hour\n",
    "train_df['day_of_week'] = train_df['pickup_datetime'].dt.dayofweek  # 0 for monday, 6 for sunday\n",
    "train_df['month'] = train_df['pickup_datetime'].dt.month\n",
    "\n",
    "# Définition de la fonction add_travel_vector_features\n",
    "def add_travel_vector_features(df):\n",
    "    df['abs_diff_longitude'] = (df.dropoff_longitude - df.pickup_longitude).abs()\n",
    "    df['abs_diff_latitude'] = (df.dropoff_latitude - df.pickup_latitude).abs()\n",
    "\n",
    "add_travel_vector_features(train_df)\n",
    "\n",
    "train_df = train_df[(train_df.abs_diff_longitude < 5) & (train_df.abs_diff_latitude < 5)]\n",
    "\n",
    "# Supprimer les valeurs aberrantes pour le tarif et le nombre de passagers\n",
    "train_df = train_df[(train_df['fare_amount'] > 0) & (train_df['fare_amount'] <= 1000)]\n",
    "train_df = train_df[train_df['passenger_count'] > 0]\n",
    "\n",
    "# Extract hour of the day and month from pickup datetime\n",
    "train_df['pickup_datetime'] = dd.to_datetime(train_df['pickup_datetime'])\n",
    "train_df['hour_of_day'] = train_df['pickup_datetime'].dt.hour\n",
    "train_df['month'] = train_df['pickup_datetime'].dt.month\n",
    "\n",
    "# Restrain values of lat/long to NYC (googled it)\n",
    "train_df = train_df[(train_df['pickup_longitude'] >= -75.3) & (train_df['pickup_longitude'] <= -72.7)]\n",
    "train_df = train_df[(train_df['pickup_latitude'] >= 39.5) & (train_df['pickup_latitude'] <= 41.5)]\n",
    "train_df = train_df[(train_df['dropoff_longitude'] >= -75.3) & (train_df['dropoff_longitude'] <= -72.7)]\n",
    "train_df = train_df[(train_df['dropoff_latitude'] >= 39.5) & (train_df['dropoff_latitude'] <= 41.5)]\n",
    "\n",
    "# Calculate distances with haversine function\n",
    "train_df['distance'] = haversine_distance(train_df['pickup_longitude'], train_df['pickup_latitude'], train_df['dropoff_longitude'], train_df['dropoff_latitude'])\n",
    "\n",
    "# Normalize numerical features\n",
    "numerical_features = ['fare_amount', 'passenger_count', 'pickup_longitude', 'pickup_latitude', 'dropoff_longitude', 'dropoff_latitude', 'distance', 'hour_of_day', 'month']\n",
    "scaler = StandardScaler()\n",
    "train_df[numerical_features] = scaler.fit_transform(train_df[numerical_features])\n",
    "\n",
    "# Add non linear features\n",
    "positive_numerical_features = ['pickup_longitude', 'pickup_latitude', 'dropoff_longitude', 'dropoff_latitude', 'distance']\n",
    "\n",
    "def square_positive(x):\n",
    "    return np.where(x > 0, x ** 2, x)\n",
    "\n",
    "for feature in positive_numerical_features:\n",
    "    train_df[f'{feature}_squared'] = train_df[feature].map_partitions(square_positive)\n",
    "\n",
    "# Print statistics\n",
    "print(train_df.describe().compute())\n"
   ]
  },
  {
   "cell_type": "markdown",
   "id": "84739b99",
   "metadata": {},
   "source": [
    "<span style=\"color:#EB5E0B;font-style:italic\">\n",
    "    \n",
    "- Do you think we could parallelize things better for any of our computation or data access? (It's a trap).\n",
    "</span>"
   ]
  },
  {
   "cell_type": "markdown",
   "id": "0968301b-aed0-4402-8b65-90af6565c5bd",
   "metadata": {},
   "source": [
    "**ANSWER**\n",
    "\n",
    "Over-parallelization can introduce unnecessary overhead and complexity without proportional benefits. The goal should be to find a balance that leverages parallelism effectively while minimizing overhead and efficiently utilizing available resources."
   ]
  },
  {
   "cell_type": "markdown",
   "id": "dead4e91",
   "metadata": {},
   "source": [
    "<span style=\"color:#EB5E0B;font-style:italic\">\n",
    "    \n",
    "### BONUS Questions (you don't have to do this, just go back to it if you want to improve, skip it at first)\n",
    "\n",
    "Some other questions to practice\n",
    "\n",
    "- Can you see a correlation between the fare amount and the dropoff latitude? Answer by doing a dask dataframe computation.\n",
    "\n",
    "First you'll need to round the dropoff latitude to have some sort of categories using Series.round() function.\n",
    "\n",
    "Then, just group_by this new colon to have some answer (and don't forget to compute to get the results).\n",
    "</span>"
   ]
  },
  {
   "cell_type": "code",
   "execution_count": 91,
   "id": "78f631f0",
   "metadata": {
    "scrolled": true
   },
   "outputs": [
    {
     "data": {
      "text/plain": [
       "rounded_dropoff_latitude\n",
       "40.0    17.286603\n",
       "41.0    11.328747\n",
       "42.0     9.520000\n",
       "Name: fare_amount, dtype: float64"
      ]
     },
     "execution_count": 91,
     "metadata": {},
     "output_type": "execute_result"
    }
   ],
   "source": [
    "import dask.dataframe as dd\n",
    "\n",
    "train_df['rounded_dropoff_latitude'] = train_df['dropoff_latitude'].round()\n",
    "\n",
    "result = train_df.groupby('rounded_dropoff_latitude')['fare_amount'].mean()\n",
    "\n",
    "computed_result = result.compute()\n",
    "\n",
    "computed_result"
   ]
  },
  {
   "cell_type": "markdown",
   "id": "85f28182",
   "metadata": {},
   "source": [
    "OK, this don't give a lot of insights, but it looks like we've got some strange values somewhere!\n",
    "\n",
    "<br>\n",
    "\n",
    "<span style=\"color:#EB5E0B;font-style:italic\">\n",
    "- Let's just have a look of non extreme values, so probably some records at the middle of the results.\n",
    "We need first to sort the resulting series by index before looking at the middle of it.\n",
    "</span>"
   ]
  },
  {
   "cell_type": "code",
   "execution_count": 76,
   "id": "b1430445",
   "metadata": {},
   "outputs": [
    {
     "name": "stdout",
     "output_type": "stream",
     "text": [
      "rounded_dropoff_latitude\n",
      "23.0    10.000000\n",
      "24.0     8.766667\n",
      "25.0     5.800000\n",
      "26.0    18.325000\n",
      "27.0     6.333333\n",
      "28.0     9.500000\n",
      "29.0     8.320000\n",
      "30.0    11.035294\n",
      "31.0     8.190000\n",
      "32.0     9.055556\n",
      "Name: fare_amount, dtype: float64\n"
     ]
    }
   ],
   "source": [
    "# Sort the resulting series by index\n",
    "sorted_result = computed_result.sort_index()\n",
    "\n",
    "# Let's look at the middle values of the sorted series\n",
    "middle_index = len(sorted_result) // 2\n",
    "middle_values = sorted_result.iloc[middle_index - 5: middle_index + 5]\n",
    "\n",
    "print(middle_values)"
   ]
  },
  {
   "cell_type": "code",
   "execution_count": 50,
   "id": "9c8b2eca-a4c1-4c44-8a40-d2ad5cfe0cd3",
   "metadata": {},
   "outputs": [
    {
     "data": {
      "text/plain": [
       "53971981"
      ]
     },
     "execution_count": 50,
     "metadata": {},
     "output_type": "execute_result"
    }
   ],
   "source": [
    "len(train_df)"
   ]
  },
  {
   "cell_type": "markdown",
   "id": "dd946db2",
   "metadata": {},
   "source": [
    "OK, this is not really useful, but it's an exercise!"
   ]
  },
  {
   "cell_type": "markdown",
   "id": "41b40adc",
   "metadata": {},
   "source": [
    "## Training a model in a distributed way\n",
    "\n",
    "Let's begin with a linear model that we can distributed with Dask ML."
   ]
  },
  {
   "cell_type": "markdown",
   "id": "4d2e693a",
   "metadata": {},
   "source": [
    "### Building our feature vectors\n",
    "\n",
    "Here again define a method so that we can use it later for our test set evaluation.\n",
    "\n",
    "<br>\n",
    "\n",
    "<span style=\"color:#EB5E0B;font-style:italic\">\n",
    "    \n",
    "- Just do the same as with the Pandas example by defining a get_input_matrix(df) function. But this time you'll generate a dask array (not numpy) using `to_dask_array(lengths=True)` method on the dataframe object instead of `np.column_stack` (look a bit a dask docs in order to find how to use this method). You should do a method that generate the X input features dask array, and also the same with y training results. You can do just one method that return both (return X, y). \n",
    "- It is a good idea to persist() arrays in memory in or after the call.\n",
    "- This time, we'll add the feature 'passenger_count' in addition to the distance vectors, one more feature! So X must have 3 columns.\n",
    "</span>"
   ]
  },
  {
   "cell_type": "code",
   "execution_count": 7,
   "id": "d6d6b00f",
   "metadata": {},
   "outputs": [
    {
     "name": "stdout",
     "output_type": "stream",
     "text": [
      "CPU times: user 5 µs, sys: 1 µs, total: 6 µs\n",
      "Wall time: 11.4 µs\n"
     ]
    }
   ],
   "source": [
    "%time\n",
    "import dask.dataframe as dd\n",
    "import dask.array as da\n",
    "\n",
    "def get_input_matrix(df):\n",
    "    features_df = df[['abs_diff_longitude', 'abs_diff_latitude', 'passenger_count']]\n",
    "    X = features_df.to_dask_array(lengths=True)\n",
    "    y = df['fare_amount'].to_dask_array(lengths=True)\n",
    "    X = X.persist()\n",
    "    y = y.persist()\n",
    "    return X, y"
   ]
  },
  {
   "cell_type": "markdown",
   "id": "34aad88f",
   "metadata": {},
   "source": [
    "Then we get the values, and display train_X to have some insights of its size and chunking scheme."
   ]
  },
  {
   "cell_type": "code",
   "execution_count": 11,
   "id": "61c4eea9",
   "metadata": {},
   "outputs": [
    {
     "name": "stdout",
     "output_type": "stream",
     "text": [
      "CPU times: user 5 µs, sys: 0 ns, total: 5 µs\n",
      "Wall time: 12.6 µs\n"
     ]
    },
    {
     "name": "stderr",
     "output_type": "stream",
     "text": [
      "Task exception was never retrieved\n",
      "future: <Task finished name='Task-1468' coro=<Client._gather.<locals>.wait() done, defined at /srv/conda/envs/notebook/lib/python3.11/site-packages/distributed/client.py:2208> exception=AllExit()>\n",
      "Traceback (most recent call last):\n",
      "  File \"/srv/conda/envs/notebook/lib/python3.11/site-packages/distributed/client.py\", line 2217, in wait\n",
      "    raise AllExit()\n",
      "distributed.client.AllExit\n",
      "Task exception was never retrieved\n",
      "future: <Task finished name='Task-1527' coro=<Client._gather.<locals>.wait() done, defined at /srv/conda/envs/notebook/lib/python3.11/site-packages/distributed/client.py:2208> exception=AllExit()>\n",
      "Traceback (most recent call last):\n",
      "  File \"/srv/conda/envs/notebook/lib/python3.11/site-packages/distributed/client.py\", line 2217, in wait\n",
      "    raise AllExit()\n",
      "distributed.client.AllExit\n",
      "Task exception was never retrieved\n",
      "future: <Task finished name='Task-1472' coro=<Client._gather.<locals>.wait() done, defined at /srv/conda/envs/notebook/lib/python3.11/site-packages/distributed/client.py:2208> exception=AllExit()>\n",
      "Traceback (most recent call last):\n",
      "  File \"/srv/conda/envs/notebook/lib/python3.11/site-packages/distributed/client.py\", line 2217, in wait\n",
      "    raise AllExit()\n",
      "distributed.client.AllExit\n",
      "Task exception was never retrieved\n",
      "future: <Task finished name='Task-1486' coro=<Client._gather.<locals>.wait() done, defined at /srv/conda/envs/notebook/lib/python3.11/site-packages/distributed/client.py:2208> exception=AllExit()>\n",
      "Traceback (most recent call last):\n",
      "  File \"/srv/conda/envs/notebook/lib/python3.11/site-packages/distributed/client.py\", line 2217, in wait\n",
      "    raise AllExit()\n",
      "distributed.client.AllExit\n",
      "Task exception was never retrieved\n",
      "future: <Task finished name='Task-1485' coro=<Client._gather.<locals>.wait() done, defined at /srv/conda/envs/notebook/lib/python3.11/site-packages/distributed/client.py:2208> exception=AllExit()>\n",
      "Traceback (most recent call last):\n",
      "  File \"/srv/conda/envs/notebook/lib/python3.11/site-packages/distributed/client.py\", line 2217, in wait\n",
      "    raise AllExit()\n",
      "distributed.client.AllExit\n",
      "Task exception was never retrieved\n",
      "future: <Task finished name='Task-1512' coro=<Client._gather.<locals>.wait() done, defined at /srv/conda/envs/notebook/lib/python3.11/site-packages/distributed/client.py:2208> exception=AllExit()>\n",
      "Traceback (most recent call last):\n",
      "  File \"/srv/conda/envs/notebook/lib/python3.11/site-packages/distributed/client.py\", line 2217, in wait\n",
      "    raise AllExit()\n",
      "distributed.client.AllExit\n",
      "Task exception was never retrieved\n",
      "future: <Task finished name='Task-1525' coro=<Client._gather.<locals>.wait() done, defined at /srv/conda/envs/notebook/lib/python3.11/site-packages/distributed/client.py:2208> exception=AllExit()>\n",
      "Traceback (most recent call last):\n",
      "  File \"/srv/conda/envs/notebook/lib/python3.11/site-packages/distributed/client.py\", line 2217, in wait\n",
      "    raise AllExit()\n",
      "distributed.client.AllExit\n",
      "Task exception was never retrieved\n",
      "future: <Task finished name='Task-1514' coro=<Client._gather.<locals>.wait() done, defined at /srv/conda/envs/notebook/lib/python3.11/site-packages/distributed/client.py:2208> exception=AllExit()>\n",
      "Traceback (most recent call last):\n",
      "  File \"/srv/conda/envs/notebook/lib/python3.11/site-packages/distributed/client.py\", line 2217, in wait\n",
      "    raise AllExit()\n",
      "distributed.client.AllExit\n",
      "Task exception was never retrieved\n",
      "future: <Task finished name='Task-1521' coro=<Client._gather.<locals>.wait() done, defined at /srv/conda/envs/notebook/lib/python3.11/site-packages/distributed/client.py:2208> exception=AllExit()>\n",
      "Traceback (most recent call last):\n",
      "  File \"/srv/conda/envs/notebook/lib/python3.11/site-packages/distributed/client.py\", line 2217, in wait\n",
      "    raise AllExit()\n",
      "distributed.client.AllExit\n",
      "Task exception was never retrieved\n",
      "future: <Task finished name='Task-1483' coro=<Client._gather.<locals>.wait() done, defined at /srv/conda/envs/notebook/lib/python3.11/site-packages/distributed/client.py:2208> exception=AllExit()>\n",
      "Traceback (most recent call last):\n",
      "  File \"/srv/conda/envs/notebook/lib/python3.11/site-packages/distributed/client.py\", line 2217, in wait\n",
      "    raise AllExit()\n",
      "distributed.client.AllExit\n",
      "Task exception was never retrieved\n",
      "future: <Task finished name='Task-1506' coro=<Client._gather.<locals>.wait() done, defined at /srv/conda/envs/notebook/lib/python3.11/site-packages/distributed/client.py:2208> exception=AllExit()>\n",
      "Traceback (most recent call last):\n",
      "  File \"/srv/conda/envs/notebook/lib/python3.11/site-packages/distributed/client.py\", line 2217, in wait\n",
      "    raise AllExit()\n",
      "distributed.client.AllExit\n",
      "Task exception was never retrieved\n",
      "future: <Task finished name='Task-1510' coro=<Client._gather.<locals>.wait() done, defined at /srv/conda/envs/notebook/lib/python3.11/site-packages/distributed/client.py:2208> exception=AllExit()>\n",
      "Traceback (most recent call last):\n",
      "  File \"/srv/conda/envs/notebook/lib/python3.11/site-packages/distributed/client.py\", line 2217, in wait\n",
      "    raise AllExit()\n",
      "distributed.client.AllExit\n",
      "Task exception was never retrieved\n",
      "future: <Task finished name='Task-1494' coro=<Client._gather.<locals>.wait() done, defined at /srv/conda/envs/notebook/lib/python3.11/site-packages/distributed/client.py:2208> exception=AllExit()>\n",
      "Traceback (most recent call last):\n",
      "  File \"/srv/conda/envs/notebook/lib/python3.11/site-packages/distributed/client.py\", line 2217, in wait\n",
      "    raise AllExit()\n",
      "distributed.client.AllExit\n",
      "Task exception was never retrieved\n",
      "future: <Task finished name='Task-1467' coro=<Client._gather.<locals>.wait() done, defined at /srv/conda/envs/notebook/lib/python3.11/site-packages/distributed/client.py:2208> exception=AllExit()>\n",
      "Traceback (most recent call last):\n",
      "  File \"/srv/conda/envs/notebook/lib/python3.11/site-packages/distributed/client.py\", line 2217, in wait\n",
      "    raise AllExit()\n",
      "distributed.client.AllExit\n",
      "Task exception was never retrieved\n",
      "future: <Task finished name='Task-1497' coro=<Client._gather.<locals>.wait() done, defined at /srv/conda/envs/notebook/lib/python3.11/site-packages/distributed/client.py:2208> exception=AllExit()>\n",
      "Traceback (most recent call last):\n",
      "  File \"/srv/conda/envs/notebook/lib/python3.11/site-packages/distributed/client.py\", line 2217, in wait\n",
      "    raise AllExit()\n",
      "distributed.client.AllExit\n",
      "Task exception was never retrieved\n",
      "future: <Task finished name='Task-1471' coro=<Client._gather.<locals>.wait() done, defined at /srv/conda/envs/notebook/lib/python3.11/site-packages/distributed/client.py:2208> exception=AllExit()>\n",
      "Traceback (most recent call last):\n",
      "  File \"/srv/conda/envs/notebook/lib/python3.11/site-packages/distributed/client.py\", line 2217, in wait\n",
      "    raise AllExit()\n",
      "distributed.client.AllExit\n",
      "Task exception was never retrieved\n",
      "future: <Task finished name='Task-1500' coro=<Client._gather.<locals>.wait() done, defined at /srv/conda/envs/notebook/lib/python3.11/site-packages/distributed/client.py:2208> exception=AllExit()>\n",
      "Traceback (most recent call last):\n",
      "  File \"/srv/conda/envs/notebook/lib/python3.11/site-packages/distributed/client.py\", line 2217, in wait\n",
      "    raise AllExit()\n",
      "distributed.client.AllExit\n",
      "Task exception was never retrieved\n",
      "future: <Task finished name='Task-1518' coro=<Client._gather.<locals>.wait() done, defined at /srv/conda/envs/notebook/lib/python3.11/site-packages/distributed/client.py:2208> exception=AllExit()>\n",
      "Traceback (most recent call last):\n",
      "  File \"/srv/conda/envs/notebook/lib/python3.11/site-packages/distributed/client.py\", line 2217, in wait\n",
      "    raise AllExit()\n",
      "distributed.client.AllExit\n",
      "Task exception was never retrieved\n",
      "future: <Task finished name='Task-1504' coro=<Client._gather.<locals>.wait() done, defined at /srv/conda/envs/notebook/lib/python3.11/site-packages/distributed/client.py:2208> exception=AllExit()>\n",
      "Traceback (most recent call last):\n",
      "  File \"/srv/conda/envs/notebook/lib/python3.11/site-packages/distributed/client.py\", line 2217, in wait\n",
      "    raise AllExit()\n",
      "distributed.client.AllExit\n",
      "Task exception was never retrieved\n",
      "future: <Task finished name='Task-1517' coro=<Client._gather.<locals>.wait() done, defined at /srv/conda/envs/notebook/lib/python3.11/site-packages/distributed/client.py:2208> exception=AllExit()>\n",
      "Traceback (most recent call last):\n",
      "  File \"/srv/conda/envs/notebook/lib/python3.11/site-packages/distributed/client.py\", line 2217, in wait\n",
      "    raise AllExit()\n",
      "distributed.client.AllExit\n",
      "Task exception was never retrieved\n",
      "future: <Task finished name='Task-1462' coro=<Client._gather.<locals>.wait() done, defined at /srv/conda/envs/notebook/lib/python3.11/site-packages/distributed/client.py:2208> exception=AllExit()>\n",
      "Traceback (most recent call last):\n",
      "  File \"/srv/conda/envs/notebook/lib/python3.11/site-packages/distributed/client.py\", line 2217, in wait\n",
      "    raise AllExit()\n",
      "distributed.client.AllExit\n",
      "Task exception was never retrieved\n",
      "future: <Task finished name='Task-1519' coro=<Client._gather.<locals>.wait() done, defined at /srv/conda/envs/notebook/lib/python3.11/site-packages/distributed/client.py:2208> exception=AllExit()>\n",
      "Traceback (most recent call last):\n",
      "  File \"/srv/conda/envs/notebook/lib/python3.11/site-packages/distributed/client.py\", line 2217, in wait\n",
      "    raise AllExit()\n",
      "distributed.client.AllExit\n",
      "Task exception was never retrieved\n",
      "future: <Task finished name='Task-1456' coro=<Client._gather.<locals>.wait() done, defined at /srv/conda/envs/notebook/lib/python3.11/site-packages/distributed/client.py:2208> exception=AllExit()>\n",
      "Traceback (most recent call last):\n",
      "  File \"/srv/conda/envs/notebook/lib/python3.11/site-packages/distributed/client.py\", line 2217, in wait\n",
      "    raise AllExit()\n",
      "distributed.client.AllExit\n",
      "Task exception was never retrieved\n",
      "future: <Task finished name='Task-1536' coro=<Client._gather.<locals>.wait() done, defined at /srv/conda/envs/notebook/lib/python3.11/site-packages/distributed/client.py:2208> exception=AllExit()>\n",
      "Traceback (most recent call last):\n",
      "  File \"/srv/conda/envs/notebook/lib/python3.11/site-packages/distributed/client.py\", line 2217, in wait\n",
      "    raise AllExit()\n",
      "distributed.client.AllExit\n",
      "Task exception was never retrieved\n",
      "future: <Task finished name='Task-1452' coro=<Client._gather.<locals>.wait() done, defined at /srv/conda/envs/notebook/lib/python3.11/site-packages/distributed/client.py:2208> exception=AllExit()>\n",
      "Traceback (most recent call last):\n",
      "  File \"/srv/conda/envs/notebook/lib/python3.11/site-packages/distributed/client.py\", line 2217, in wait\n",
      "    raise AllExit()\n",
      "distributed.client.AllExit\n",
      "Task exception was never retrieved\n",
      "future: <Task finished name='Task-1470' coro=<Client._gather.<locals>.wait() done, defined at /srv/conda/envs/notebook/lib/python3.11/site-packages/distributed/client.py:2208> exception=AllExit()>\n",
      "Traceback (most recent call last):\n",
      "  File \"/srv/conda/envs/notebook/lib/python3.11/site-packages/distributed/client.py\", line 2217, in wait\n",
      "    raise AllExit()\n",
      "distributed.client.AllExit\n",
      "Task exception was never retrieved\n",
      "future: <Task finished name='Task-1523' coro=<Client._gather.<locals>.wait() done, defined at /srv/conda/envs/notebook/lib/python3.11/site-packages/distributed/client.py:2208> exception=AllExit()>\n",
      "Traceback (most recent call last):\n",
      "  File \"/srv/conda/envs/notebook/lib/python3.11/site-packages/distributed/client.py\", line 2217, in wait\n",
      "    raise AllExit()\n",
      "distributed.client.AllExit\n",
      "Task exception was never retrieved\n",
      "future: <Task finished name='Task-1478' coro=<Client._gather.<locals>.wait() done, defined at /srv/conda/envs/notebook/lib/python3.11/site-packages/distributed/client.py:2208> exception=AllExit()>\n",
      "Traceback (most recent call last):\n",
      "  File \"/srv/conda/envs/notebook/lib/python3.11/site-packages/distributed/client.py\", line 2217, in wait\n",
      "    raise AllExit()\n",
      "distributed.client.AllExit\n",
      "Task exception was never retrieved\n",
      "future: <Task finished name='Task-1533' coro=<Client._gather.<locals>.wait() done, defined at /srv/conda/envs/notebook/lib/python3.11/site-packages/distributed/client.py:2208> exception=AllExit()>\n",
      "Traceback (most recent call last):\n",
      "  File \"/srv/conda/envs/notebook/lib/python3.11/site-packages/distributed/client.py\", line 2217, in wait\n",
      "    raise AllExit()\n",
      "distributed.client.AllExit\n",
      "Task exception was never retrieved\n",
      "future: <Task finished name='Task-1534' coro=<Client._gather.<locals>.wait() done, defined at /srv/conda/envs/notebook/lib/python3.11/site-packages/distributed/client.py:2208> exception=AllExit()>\n",
      "Traceback (most recent call last):\n",
      "  File \"/srv/conda/envs/notebook/lib/python3.11/site-packages/distributed/client.py\", line 2217, in wait\n",
      "    raise AllExit()\n",
      "distributed.client.AllExit\n",
      "Task exception was never retrieved\n",
      "future: <Task finished name='Task-1453' coro=<Client._gather.<locals>.wait() done, defined at /srv/conda/envs/notebook/lib/python3.11/site-packages/distributed/client.py:2208> exception=AllExit()>\n",
      "Traceback (most recent call last):\n",
      "  File \"/srv/conda/envs/notebook/lib/python3.11/site-packages/distributed/client.py\", line 2217, in wait\n",
      "    raise AllExit()\n",
      "distributed.client.AllExit\n",
      "Task exception was never retrieved\n",
      "future: <Task finished name='Task-1457' coro=<Client._gather.<locals>.wait() done, defined at /srv/conda/envs/notebook/lib/python3.11/site-packages/distributed/client.py:2208> exception=AllExit()>\n",
      "Traceback (most recent call last):\n",
      "  File \"/srv/conda/envs/notebook/lib/python3.11/site-packages/distributed/client.py\", line 2217, in wait\n",
      "    raise AllExit()\n",
      "distributed.client.AllExit\n",
      "Task exception was never retrieved\n",
      "future: <Task finished name='Task-1528' coro=<Client._gather.<locals>.wait() done, defined at /srv/conda/envs/notebook/lib/python3.11/site-packages/distributed/client.py:2208> exception=AllExit()>\n",
      "Traceback (most recent call last):\n",
      "  File \"/srv/conda/envs/notebook/lib/python3.11/site-packages/distributed/client.py\", line 2217, in wait\n",
      "    raise AllExit()\n",
      "distributed.client.AllExit\n",
      "Task exception was never retrieved\n",
      "future: <Task finished name='Task-1511' coro=<Client._gather.<locals>.wait() done, defined at /srv/conda/envs/notebook/lib/python3.11/site-packages/distributed/client.py:2208> exception=AllExit()>\n",
      "Traceback (most recent call last):\n",
      "  File \"/srv/conda/envs/notebook/lib/python3.11/site-packages/distributed/client.py\", line 2217, in wait\n",
      "    raise AllExit()\n",
      "distributed.client.AllExit\n",
      "Task exception was never retrieved\n",
      "future: <Task finished name='Task-1476' coro=<Client._gather.<locals>.wait() done, defined at /srv/conda/envs/notebook/lib/python3.11/site-packages/distributed/client.py:2208> exception=AllExit()>\n",
      "Traceback (most recent call last):\n",
      "  File \"/srv/conda/envs/notebook/lib/python3.11/site-packages/distributed/client.py\", line 2217, in wait\n",
      "    raise AllExit()\n",
      "distributed.client.AllExit\n",
      "Task exception was never retrieved\n",
      "future: <Task finished name='Task-1464' coro=<Client._gather.<locals>.wait() done, defined at /srv/conda/envs/notebook/lib/python3.11/site-packages/distributed/client.py:2208> exception=AllExit()>\n",
      "Traceback (most recent call last):\n",
      "  File \"/srv/conda/envs/notebook/lib/python3.11/site-packages/distributed/client.py\", line 2217, in wait\n",
      "    raise AllExit()\n",
      "distributed.client.AllExit\n",
      "Task exception was never retrieved\n",
      "future: <Task finished name='Task-1520' coro=<Client._gather.<locals>.wait() done, defined at /srv/conda/envs/notebook/lib/python3.11/site-packages/distributed/client.py:2208> exception=AllExit()>\n",
      "Traceback (most recent call last):\n",
      "  File \"/srv/conda/envs/notebook/lib/python3.11/site-packages/distributed/client.py\", line 2217, in wait\n",
      "    raise AllExit()\n",
      "distributed.client.AllExit\n",
      "Task exception was never retrieved\n",
      "future: <Task finished name='Task-1530' coro=<Client._gather.<locals>.wait() done, defined at /srv/conda/envs/notebook/lib/python3.11/site-packages/distributed/client.py:2208> exception=AllExit()>\n",
      "Traceback (most recent call last):\n",
      "  File \"/srv/conda/envs/notebook/lib/python3.11/site-packages/distributed/client.py\", line 2217, in wait\n",
      "    raise AllExit()\n",
      "distributed.client.AllExit\n",
      "Task exception was never retrieved\n",
      "future: <Task finished name='Task-1455' coro=<Client._gather.<locals>.wait() done, defined at /srv/conda/envs/notebook/lib/python3.11/site-packages/distributed/client.py:2208> exception=AllExit()>\n",
      "Traceback (most recent call last):\n",
      "  File \"/srv/conda/envs/notebook/lib/python3.11/site-packages/distributed/client.py\", line 2217, in wait\n",
      "    raise AllExit()\n",
      "distributed.client.AllExit\n",
      "Task exception was never retrieved\n",
      "future: <Task finished name='Task-1459' coro=<Client._gather.<locals>.wait() done, defined at /srv/conda/envs/notebook/lib/python3.11/site-packages/distributed/client.py:2208> exception=AllExit()>\n",
      "Traceback (most recent call last):\n",
      "  File \"/srv/conda/envs/notebook/lib/python3.11/site-packages/distributed/client.py\", line 2217, in wait\n",
      "    raise AllExit()\n",
      "distributed.client.AllExit\n",
      "Task exception was never retrieved\n",
      "future: <Task finished name='Task-1487' coro=<Client._gather.<locals>.wait() done, defined at /srv/conda/envs/notebook/lib/python3.11/site-packages/distributed/client.py:2208> exception=AllExit()>\n",
      "Traceback (most recent call last):\n",
      "  File \"/srv/conda/envs/notebook/lib/python3.11/site-packages/distributed/client.py\", line 2217, in wait\n",
      "    raise AllExit()\n",
      "distributed.client.AllExit\n",
      "Task exception was never retrieved\n",
      "future: <Task finished name='Task-1451' coro=<Client._gather.<locals>.wait() done, defined at /srv/conda/envs/notebook/lib/python3.11/site-packages/distributed/client.py:2208> exception=AllExit()>\n",
      "Traceback (most recent call last):\n",
      "  File \"/srv/conda/envs/notebook/lib/python3.11/site-packages/distributed/client.py\", line 2217, in wait\n",
      "    raise AllExit()\n",
      "distributed.client.AllExit\n",
      "Task exception was never retrieved\n",
      "future: <Task finished name='Task-1535' coro=<Client._gather.<locals>.wait() done, defined at /srv/conda/envs/notebook/lib/python3.11/site-packages/distributed/client.py:2208> exception=AllExit()>\n",
      "Traceback (most recent call last):\n",
      "  File \"/srv/conda/envs/notebook/lib/python3.11/site-packages/distributed/client.py\", line 2217, in wait\n",
      "    raise AllExit()\n",
      "distributed.client.AllExit\n"
     ]
    },
    {
     "ename": "KeyboardInterrupt",
     "evalue": "",
     "output_type": "error",
     "traceback": [
      "\u001b[0;31m---------------------------------------------------------------------------\u001b[0m",
      "\u001b[0;31mKeyboardInterrupt\u001b[0m                         Traceback (most recent call last)",
      "Cell \u001b[0;32mIn[11], line 2\u001b[0m\n\u001b[1;32m      1\u001b[0m get_ipython()\u001b[38;5;241m.\u001b[39mrun_line_magic(\u001b[38;5;124m'\u001b[39m\u001b[38;5;124mtime\u001b[39m\u001b[38;5;124m'\u001b[39m, \u001b[38;5;124m'\u001b[39m\u001b[38;5;124m'\u001b[39m)\n\u001b[0;32m----> 2\u001b[0m train_X, train_y \u001b[38;5;241m=\u001b[39m \u001b[43mget_input_matrix\u001b[49m\u001b[43m(\u001b[49m\u001b[43mtrain_df\u001b[49m\u001b[43m)\u001b[49m\n\u001b[1;32m      3\u001b[0m train_X\n",
      "Cell \u001b[0;32mIn[7], line 7\u001b[0m, in \u001b[0;36mget_input_matrix\u001b[0;34m(df)\u001b[0m\n\u001b[1;32m      5\u001b[0m \u001b[38;5;28;01mdef\u001b[39;00m \u001b[38;5;21mget_input_matrix\u001b[39m(df):\n\u001b[1;32m      6\u001b[0m     features_df \u001b[38;5;241m=\u001b[39m df[[\u001b[38;5;124m'\u001b[39m\u001b[38;5;124mabs_diff_longitude\u001b[39m\u001b[38;5;124m'\u001b[39m, \u001b[38;5;124m'\u001b[39m\u001b[38;5;124mabs_diff_latitude\u001b[39m\u001b[38;5;124m'\u001b[39m, \u001b[38;5;124m'\u001b[39m\u001b[38;5;124mpassenger_count\u001b[39m\u001b[38;5;124m'\u001b[39m]]\n\u001b[0;32m----> 7\u001b[0m     X \u001b[38;5;241m=\u001b[39m \u001b[43mfeatures_df\u001b[49m\u001b[38;5;241;43m.\u001b[39;49m\u001b[43mto_dask_array\u001b[49m\u001b[43m(\u001b[49m\u001b[43mlengths\u001b[49m\u001b[38;5;241;43m=\u001b[39;49m\u001b[38;5;28;43;01mTrue\u001b[39;49;00m\u001b[43m)\u001b[49m\n\u001b[1;32m      8\u001b[0m     y \u001b[38;5;241m=\u001b[39m df[\u001b[38;5;124m'\u001b[39m\u001b[38;5;124mfare_amount\u001b[39m\u001b[38;5;124m'\u001b[39m]\u001b[38;5;241m.\u001b[39mto_dask_array(lengths\u001b[38;5;241m=\u001b[39m\u001b[38;5;28;01mTrue\u001b[39;00m)\n\u001b[1;32m      9\u001b[0m     X \u001b[38;5;241m=\u001b[39m X\u001b[38;5;241m.\u001b[39mpersist()\n",
      "File \u001b[0;32m/srv/conda/envs/notebook/lib/python3.11/site-packages/dask/dataframe/core.py:1980\u001b[0m, in \u001b[0;36m_Frame.to_dask_array\u001b[0;34m(self, lengths, meta)\u001b[0m\n\u001b[1;32m   1957\u001b[0m \u001b[38;5;250m\u001b[39m\u001b[38;5;124;03m\"\"\"Convert a dask DataFrame to a dask array.\u001b[39;00m\n\u001b[1;32m   1958\u001b[0m \n\u001b[1;32m   1959\u001b[0m \u001b[38;5;124;03mParameters\u001b[39;00m\n\u001b[0;32m   (...)\u001b[0m\n\u001b[1;32m   1977\u001b[0m \u001b[38;5;124;03m-------\u001b[39;00m\n\u001b[1;32m   1978\u001b[0m \u001b[38;5;124;03m\"\"\"\u001b[39;00m\n\u001b[1;32m   1979\u001b[0m \u001b[38;5;28;01mif\u001b[39;00m lengths \u001b[38;5;129;01mis\u001b[39;00m \u001b[38;5;28;01mTrue\u001b[39;00m:\n\u001b[0;32m-> 1980\u001b[0m     lengths \u001b[38;5;241m=\u001b[39m \u001b[38;5;28mtuple\u001b[39m(\u001b[38;5;28;43mself\u001b[39;49m\u001b[38;5;241;43m.\u001b[39;49m\u001b[43mmap_partitions\u001b[49m\u001b[43m(\u001b[49m\u001b[38;5;28;43mlen\u001b[39;49m\u001b[43m,\u001b[49m\u001b[43m \u001b[49m\u001b[43menforce_metadata\u001b[49m\u001b[38;5;241;43m=\u001b[39;49m\u001b[38;5;28;43;01mFalse\u001b[39;49;00m\u001b[43m)\u001b[49m\u001b[38;5;241;43m.\u001b[39;49m\u001b[43mcompute\u001b[49m\u001b[43m(\u001b[49m\u001b[43m)\u001b[49m)\n\u001b[1;32m   1982\u001b[0m arr \u001b[38;5;241m=\u001b[39m \u001b[38;5;28mself\u001b[39m\u001b[38;5;241m.\u001b[39mvalues\n\u001b[1;32m   1984\u001b[0m chunks \u001b[38;5;241m=\u001b[39m \u001b[38;5;28mself\u001b[39m\u001b[38;5;241m.\u001b[39m_validate_chunks(arr, lengths)\n",
      "File \u001b[0;32m/srv/conda/envs/notebook/lib/python3.11/site-packages/dask/base.py:342\u001b[0m, in \u001b[0;36mDaskMethodsMixin.compute\u001b[0;34m(self, **kwargs)\u001b[0m\n\u001b[1;32m    318\u001b[0m \u001b[38;5;28;01mdef\u001b[39;00m \u001b[38;5;21mcompute\u001b[39m(\u001b[38;5;28mself\u001b[39m, \u001b[38;5;241m*\u001b[39m\u001b[38;5;241m*\u001b[39mkwargs):\n\u001b[1;32m    319\u001b[0m \u001b[38;5;250m    \u001b[39m\u001b[38;5;124;03m\"\"\"Compute this dask collection\u001b[39;00m\n\u001b[1;32m    320\u001b[0m \n\u001b[1;32m    321\u001b[0m \u001b[38;5;124;03m    This turns a lazy Dask collection into its in-memory equivalent.\u001b[39;00m\n\u001b[0;32m   (...)\u001b[0m\n\u001b[1;32m    340\u001b[0m \u001b[38;5;124;03m    dask.compute\u001b[39;00m\n\u001b[1;32m    341\u001b[0m \u001b[38;5;124;03m    \"\"\"\u001b[39;00m\n\u001b[0;32m--> 342\u001b[0m     (result,) \u001b[38;5;241m=\u001b[39m \u001b[43mcompute\u001b[49m\u001b[43m(\u001b[49m\u001b[38;5;28;43mself\u001b[39;49m\u001b[43m,\u001b[49m\u001b[43m \u001b[49m\u001b[43mtraverse\u001b[49m\u001b[38;5;241;43m=\u001b[39;49m\u001b[38;5;28;43;01mFalse\u001b[39;49;00m\u001b[43m,\u001b[49m\u001b[43m \u001b[49m\u001b[38;5;241;43m*\u001b[39;49m\u001b[38;5;241;43m*\u001b[39;49m\u001b[43mkwargs\u001b[49m\u001b[43m)\u001b[49m\n\u001b[1;32m    343\u001b[0m     \u001b[38;5;28;01mreturn\u001b[39;00m result\n",
      "File \u001b[0;32m/srv/conda/envs/notebook/lib/python3.11/site-packages/dask/base.py:628\u001b[0m, in \u001b[0;36mcompute\u001b[0;34m(traverse, optimize_graph, scheduler, get, *args, **kwargs)\u001b[0m\n\u001b[1;32m    625\u001b[0m     postcomputes\u001b[38;5;241m.\u001b[39mappend(x\u001b[38;5;241m.\u001b[39m__dask_postcompute__())\n\u001b[1;32m    627\u001b[0m \u001b[38;5;28;01mwith\u001b[39;00m shorten_traceback():\n\u001b[0;32m--> 628\u001b[0m     results \u001b[38;5;241m=\u001b[39m \u001b[43mschedule\u001b[49m\u001b[43m(\u001b[49m\u001b[43mdsk\u001b[49m\u001b[43m,\u001b[49m\u001b[43m \u001b[49m\u001b[43mkeys\u001b[49m\u001b[43m,\u001b[49m\u001b[43m \u001b[49m\u001b[38;5;241;43m*\u001b[39;49m\u001b[38;5;241;43m*\u001b[39;49m\u001b[43mkwargs\u001b[49m\u001b[43m)\u001b[49m\n\u001b[1;32m    630\u001b[0m \u001b[38;5;28;01mreturn\u001b[39;00m repack([f(r, \u001b[38;5;241m*\u001b[39ma) \u001b[38;5;28;01mfor\u001b[39;00m r, (f, a) \u001b[38;5;129;01min\u001b[39;00m \u001b[38;5;28mzip\u001b[39m(results, postcomputes)])\n",
      "File \u001b[0;32m/srv/conda/envs/notebook/lib/python3.11/threading.py:629\u001b[0m, in \u001b[0;36mEvent.wait\u001b[0;34m(self, timeout)\u001b[0m\n\u001b[1;32m    627\u001b[0m signaled \u001b[38;5;241m=\u001b[39m \u001b[38;5;28mself\u001b[39m\u001b[38;5;241m.\u001b[39m_flag\n\u001b[1;32m    628\u001b[0m \u001b[38;5;28;01mif\u001b[39;00m \u001b[38;5;129;01mnot\u001b[39;00m signaled:\n\u001b[0;32m--> 629\u001b[0m     signaled \u001b[38;5;241m=\u001b[39m \u001b[38;5;28;43mself\u001b[39;49m\u001b[38;5;241;43m.\u001b[39;49m\u001b[43m_cond\u001b[49m\u001b[38;5;241;43m.\u001b[39;49m\u001b[43mwait\u001b[49m\u001b[43m(\u001b[49m\u001b[43mtimeout\u001b[49m\u001b[43m)\u001b[49m\n\u001b[1;32m    630\u001b[0m \u001b[38;5;28;01mreturn\u001b[39;00m signaled\n",
      "File \u001b[0;32m/srv/conda/envs/notebook/lib/python3.11/threading.py:331\u001b[0m, in \u001b[0;36mCondition.wait\u001b[0;34m(self, timeout)\u001b[0m\n\u001b[1;32m    329\u001b[0m \u001b[38;5;28;01melse\u001b[39;00m:\n\u001b[1;32m    330\u001b[0m     \u001b[38;5;28;01mif\u001b[39;00m timeout \u001b[38;5;241m>\u001b[39m \u001b[38;5;241m0\u001b[39m:\n\u001b[0;32m--> 331\u001b[0m         gotit \u001b[38;5;241m=\u001b[39m \u001b[43mwaiter\u001b[49m\u001b[38;5;241;43m.\u001b[39;49m\u001b[43macquire\u001b[49m\u001b[43m(\u001b[49m\u001b[38;5;28;43;01mTrue\u001b[39;49;00m\u001b[43m,\u001b[49m\u001b[43m \u001b[49m\u001b[43mtimeout\u001b[49m\u001b[43m)\u001b[49m\n\u001b[1;32m    332\u001b[0m     \u001b[38;5;28;01melse\u001b[39;00m:\n\u001b[1;32m    333\u001b[0m         gotit \u001b[38;5;241m=\u001b[39m waiter\u001b[38;5;241m.\u001b[39macquire(\u001b[38;5;28;01mFalse\u001b[39;00m)\n",
      "\u001b[0;31mKeyboardInterrupt\u001b[0m: "
     ]
    }
   ],
   "source": [
    "%time\n",
    "train_X, train_y = get_input_matrix(train_df)\n",
    "train_X"
   ]
  },
  {
   "cell_type": "markdown",
   "id": "16204e42",
   "metadata": {},
   "source": [
    "### Distributed training a Linear model\n",
    "\n",
    "Be careful, this can take time, try first with few iterations (Use max_iter = 5 as a kwarg to LinearRegression constructor).\n",
    "\n",
    "see https://ml.dask.org/glm.html  \n",
    "and https://ml.dask.org/modules/generated/dask_ml.linear_model.LinearRegression.html#dask_ml.linear_model.LinearRegression\n",
    "\n",
    "<br>\n",
    "\n",
    "<span style=\"color:#EB5E0B;font-style:italic\">\n",
    "    \n",
    "- Train a LinearRegression model from dask_ml.linear_model on our inputs\n",
    "</span>\n"
   ]
  },
  {
   "cell_type": "code",
   "execution_count": null,
   "id": "52ba9d0b",
   "metadata": {},
   "outputs": [],
   "source": [
    "## Answer needed here\n",
    "%time\n",
    "from dask_ml.linear_model import LinearRegression\n",
    "model = LinearRegression(max_iter=5)\n",
    "model.fit(train_X, train_y)"
   ]
  },
  {
   "cell_type": "markdown",
   "id": "d65ec13f",
   "metadata": {},
   "source": [
    "## Evaluating our model\n"
   ]
  },
  {
   "cell_type": "markdown",
   "id": "95b3b96f",
   "metadata": {},
   "source": [
    "#### First we should load the test set."
   ]
  },
  {
   "cell_type": "code",
   "execution_count": null,
   "id": "0e78929e",
   "metadata": {},
   "outputs": [],
   "source": [
    "test_df = dd.read_csv('gs://obd-dask23/test_cleaned.csv', storage_options={'token': 'anon'}).persist()\n",
    "\n",
    "# Delete na values\n",
    "test_df = test_df.dropna(how='any')\n",
    "\n",
    "# convert to datetime format\n",
    "test_df['pickup_datetime'] = dd.to_datetime(test_df['pickup_datetime'], utc=True)\n",
    "\n",
    "# Extract day, hour, month\n",
    "test_df['hour_of_day'] = test_df['pickup_datetime'].dt.hour\n",
    "train_df['day_of_week'] = train_df['pickup_datetime'].dt.dayofweek  # 0 for monday, 6 for sunday\n",
    "test_df['month'] = test_df['pickup_datetime'].dt.month\n",
    "\n",
    "# Add travel vectors\n",
    "add_travel_vector_features(test_df)\n",
    "\n",
    "# Calculate Haversine distance\n",
    "test_df['distance'] = haversine_distance(test_df['pickup_longitude'], test_df['pickup_latitude'], test_df['dropoff_longitude'], test_df['dropoff_latitude'])\n",
    "\n",
    "# Normalize\n",
    "test_df[numerical_features] = scaler.transform(test_df[numerical_features])\n",
    "\n",
    "# Nonlinear features\n",
    "for feature in positive_numerical_features:\n",
    "    test_df[f'{feature}_squared'] = test_df[feature].map_partitions(square_positive)\n",
    "\n",
    "print(test_df.describe().compute())\n"
   ]
  },
  {
   "cell_type": "markdown",
   "id": "2b0695ac",
   "metadata": {},
   "source": [
    "Adding our features to the test set and getting our feature array"
   ]
  },
  {
   "cell_type": "code",
   "execution_count": 122,
   "id": "2432c8e6",
   "metadata": {},
   "outputs": [
    {
     "data": {
      "text/html": [
       "<table>\n",
       "    <tr>\n",
       "        <td>\n",
       "            <table style=\"border-collapse: collapse;\">\n",
       "                <thead>\n",
       "                    <tr>\n",
       "                        <td> </td>\n",
       "                        <th> Array </th>\n",
       "                        <th> Chunk </th>\n",
       "                    </tr>\n",
       "                </thead>\n",
       "                <tbody>\n",
       "                    \n",
       "                    <tr>\n",
       "                        <th> Bytes </th>\n",
       "                        <td> 229.05 kiB </td>\n",
       "                        <td> 229.05 kiB </td>\n",
       "                    </tr>\n",
       "                    \n",
       "                    <tr>\n",
       "                        <th> Shape </th>\n",
       "                        <td> (9773, 3) </td>\n",
       "                        <td> (9773, 3) </td>\n",
       "                    </tr>\n",
       "                    <tr>\n",
       "                        <th> Dask graph </th>\n",
       "                        <td colspan=\"2\"> 1 chunks in 1 graph layer </td>\n",
       "                    </tr>\n",
       "                    <tr>\n",
       "                        <th> Data type </th>\n",
       "                        <td colspan=\"2\"> float64 numpy.ndarray </td>\n",
       "                    </tr>\n",
       "                </tbody>\n",
       "            </table>\n",
       "        </td>\n",
       "        <td>\n",
       "        <svg width=\"75\" height=\"170\" style=\"stroke:rgb(0,0,0);stroke-width:1\" >\n",
       "\n",
       "  <!-- Horizontal lines -->\n",
       "  <line x1=\"0\" y1=\"0\" x2=\"25\" y2=\"0\" style=\"stroke-width:2\" />\n",
       "  <line x1=\"0\" y1=\"120\" x2=\"25\" y2=\"120\" style=\"stroke-width:2\" />\n",
       "\n",
       "  <!-- Vertical lines -->\n",
       "  <line x1=\"0\" y1=\"0\" x2=\"0\" y2=\"120\" style=\"stroke-width:2\" />\n",
       "  <line x1=\"25\" y1=\"0\" x2=\"25\" y2=\"120\" style=\"stroke-width:2\" />\n",
       "\n",
       "  <!-- Colored Rectangle -->\n",
       "  <polygon points=\"0.0,0.0 25.412616514582485,0.0 25.412616514582485,120.0 0.0,120.0\" style=\"fill:#ECB172A0;stroke-width:0\"/>\n",
       "\n",
       "  <!-- Text -->\n",
       "  <text x=\"12.706308\" y=\"140.000000\" font-size=\"1.0rem\" font-weight=\"100\" text-anchor=\"middle\" >3</text>\n",
       "  <text x=\"45.412617\" y=\"60.000000\" font-size=\"1.0rem\" font-weight=\"100\" text-anchor=\"middle\" transform=\"rotate(-90,45.412617,60.000000)\">9773</text>\n",
       "</svg>\n",
       "        </td>\n",
       "    </tr>\n",
       "</table>"
      ],
      "text/plain": [
       "dask.array<values, shape=(9773, 3), dtype=float64, chunksize=(9773, 3), chunktype=numpy.ndarray>"
      ]
     },
     "execution_count": 122,
     "metadata": {},
     "output_type": "execute_result"
    }
   ],
   "source": [
    "add_travel_vector_features(test_df)\n",
    "test_X, test_y = get_input_matrix(test_df)\n",
    "test_X"
   ]
  },
  {
   "cell_type": "markdown",
   "id": "245a45fa",
   "metadata": {},
   "source": [
    "We can use the score method inherited from Scikit learn, it gives some hints on the model performance (but our scoring board will be on RMSE). Even if for linear models, score if often low."
   ]
  },
  {
   "cell_type": "code",
   "execution_count": 125,
   "id": "0bc8e4ec",
   "metadata": {},
   "outputs": [
    {
     "data": {
      "text/plain": [
       "0.6438779855103591"
      ]
     },
     "execution_count": 125,
     "metadata": {},
     "output_type": "execute_result"
    }
   ],
   "source": [
    "model.score(test_X, test_y)"
   ]
  },
  {
   "cell_type": "code",
   "execution_count": 49,
   "id": "65be4dba",
   "metadata": {},
   "outputs": [
    {
     "data": {
      "text/plain": [
       "array([31.94932154, 10.4277079 , 13.41553028, ...,  8.44994263,\n",
       "       10.06444395,  7.22275752])"
      ]
     },
     "execution_count": 49,
     "metadata": {},
     "output_type": "execute_result"
    }
   ],
   "source": [
    "model.predict(test_X).compute()"
   ]
  },
  {
   "cell_type": "markdown",
   "id": "e56e0b52",
   "metadata": {},
   "source": [
    "#### Compute the RMSE\n",
    "\n",
    "https://www.kaggle.com/c/new-york-city-taxi-fare-prediction/overview/evaluation"
   ]
  },
  {
   "cell_type": "code",
   "execution_count": 126,
   "id": "9c12a254",
   "metadata": {},
   "outputs": [
    {
     "data": {
      "text/plain": [
       "0.5835034667820065"
      ]
     },
     "execution_count": 126,
     "metadata": {},
     "output_type": "execute_result"
    }
   ],
   "source": [
    "from sklearn.metrics import mean_squared_error\n",
    "mean_squared_error(test_y.compute(), model.predict(test_X).compute(), squared=False)"
   ]
  },
  {
   "cell_type": "markdown",
   "id": "618691b3",
   "metadata": {},
   "source": [
    "<span style=\"color:#EB5E0B;font-style:italic\">\n",
    "    \n",
    "- What RMSE did you get? Compare it to the Pandas only computation.\n",
    "</span>"
   ]
  },
  {
   "cell_type": "code",
   "execution_count": null,
   "id": "2f170c90",
   "metadata": {},
   "outputs": [],
   "source": [
    "#We get a 6.41 RMSE, this is not bad at all considering 5 iterations only."
   ]
  },
  {
   "cell_type": "markdown",
   "id": "c5c75934",
   "metadata": {},
   "source": [
    "# Distributed XGboost (optionnal, you can skip it at first)\n",
    "\n",
    "Just use the documentation here https://xgboost.readthedocs.io/en/stable/tutorials/dask.html#overview to train a model on this dataset using xgboost.\n",
    "\n",
    "<br>\n",
    "<span style=\"color:#EB5E0B;font-style:italic\">\n",
    "    \n",
    "- Just copy/paste the example (dtrain = ..., output = ...), and modify some input variables.\n",
    "- Then make a prediction (but don't forget to use your test set, not as in the prediction = ... example from the Xgboost doc).\n",
    "- Compute the mean square error on it.\n",
    "</span>"
   ]
  },
  {
   "cell_type": "code",
   "execution_count": 52,
   "id": "2c158497",
   "metadata": {},
   "outputs": [],
   "source": [
    "import xgboost as xgb\n",
    "dtrain = xgb.dask.DaskDMatrix(client, train_X, train_y)\n",
    "output = xgb.dask.train(\n",
    "    client,\n",
    "    {\"verbosity\": 2, \"tree_method\": \"hist\", \"objective\": \"reg:squarederror\"},\n",
    "    dtrain,\n",
    "    num_boost_round=4,\n",
    "    evals=[(dtrain, \"train\")],\n",
    ")"
   ]
  },
  {
   "cell_type": "code",
   "execution_count": 53,
   "id": "5c42822f",
   "metadata": {},
   "outputs": [],
   "source": [
    "dtest = xgb.dask.DaskDMatrix(client, test_X, test_y)\n",
    "prediction = xgb.dask.predict(client, output, dtest)"
   ]
  },
  {
   "cell_type": "code",
   "execution_count": 54,
   "id": "b580369c",
   "metadata": {},
   "outputs": [
    {
     "data": {
      "text/plain": [
       "5.062154804026349"
      ]
     },
     "execution_count": 54,
     "metadata": {},
     "output_type": "execute_result"
    }
   ],
   "source": [
    "from sklearn.metrics import mean_squared_error\n",
    "mean_squared_error(test_y.compute(), prediction.compute(), squared=False)"
   ]
  },
  {
   "cell_type": "markdown",
   "id": "993d1443",
   "metadata": {},
   "source": [
    "## Use Dask to scale computation on Hyper Parameter Search\n",
    "\n",
    "As seen above, Dask is well suited to distribute Data and learn a model on a big Data set. However, not all the models can be trained in parallel on sub chunks of Data. See https://scikit-learn.org/stable/computing/scaling_strategies.html for the compatible models of Scikit learn for example.\n",
    "\n",
    "Dask can also be used to train several models in parallel on small datasets, this is what we'll try now.\n",
    "\n",
    "We will just take a sample of the training set, and try to learn several models with different hyper parameters, and find the best one.\n",
    "\n",
    "Dask Hyper parameter search : https://ml.dask.org/hyper-parameter-search.html."
   ]
  },
  {
   "cell_type": "markdown",
   "id": "b8cc0e7a",
   "metadata": {},
   "source": [
    "First we'll take a small subset of the Data, 5% is a maximum if we want to avoir memory issues on our workers and have appropriate training times. You can try with less if the results are still good."
   ]
  },
  {
   "cell_type": "code",
   "execution_count": 83,
   "id": "f5c06652",
   "metadata": {},
   "outputs": [],
   "source": [
    "#Take a sample of the input data, get it as pandas dataframe\n",
    "train_sample_df = train_df.sample(frac=0.05, random_state=270120)\n",
    "# Get feature vectors out of it\n",
    "train_sample_X, train_sample_y = get_input_matrix(train_sample_df)"
   ]
  },
  {
   "cell_type": "markdown",
   "id": "4c03fe60",
   "metadata": {},
   "source": [
    "In order to optimize things, we can also change the type of the features to more appropriate and small types.\n",
    "\n",
    "We also need to use Numpy arrays, so we'll gather the result from Dask to local variable."
   ]
  },
  {
   "cell_type": "code",
   "execution_count": 84,
   "id": "fdee85b3",
   "metadata": {},
   "outputs": [
    {
     "data": {
      "text/plain": [
       "array([[0.031015  , 0.02671   , 1.        ],\n",
       "       [0.00778   , 0.01741   , 2.        ],\n",
       "       [0.0091    , 0.010142  , 1.        ],\n",
       "       ...,\n",
       "       [0.19846   , 0.092866  , 1.        ],\n",
       "       [0.028012  , 0.032991  , 1.        ],\n",
       "       [0.00333405, 0.00214005, 1.        ]], dtype=float32)"
      ]
     },
     "execution_count": 84,
     "metadata": {},
     "output_type": "execute_result"
    }
   ],
   "source": [
    "\n",
    "train_sample_X = train_sample_X.astype('float32').compute()\n",
    "train_sample_y = train_sample_y.astype('float32').compute()\n",
    "train_sample_X"
   ]
  },
  {
   "cell_type": "markdown",
   "id": "c6971e4a",
   "metadata": {},
   "source": [
    "What size is our dataset ?"
   ]
  },
  {
   "cell_type": "code",
   "execution_count": 46,
   "id": "6d9bf7bf",
   "metadata": {},
   "outputs": [
    {
     "data": {
      "text/plain": [
       "33179432"
      ]
     },
     "execution_count": 46,
     "metadata": {},
     "output_type": "execute_result"
    }
   ],
   "source": [
    "import sys\n",
    "sys.getsizeof(train_sample_X)"
   ]
  },
  {
   "cell_type": "markdown",
   "id": "af5f2ee9",
   "metadata": {},
   "source": [
    "About 32MB, this is still quite a big dataset for standard machine learning."
   ]
  },
  {
   "cell_type": "markdown",
   "id": "0e1a4fc2",
   "metadata": {},
   "source": [
    "<span style=\"color:#EB5E0B;font-style:italic\">\n",
    "\n",
    "- Now, just use hyper parameter search Dask API to distribute the search. You can either use joblib integration with Sklearn or dask_ml directly. \n",
    "\n",
    "**Be careful: do not use model too long to train, and limit their complexity at first or the combinations of hyper parameters you'll use. Hint, start first with a simple LinearModel like SGDRegressor and not more than 10 iterations per model.**\n",
    "</span>\n",
    "\n",
    "So start with something like:\n",
    "\n",
    "- RandomizedSearchCV https://scikit-learn.org/stable/modules/generated/sklearn.model_selection.RandomizedSearchCV.html, with cv=2, n_iter=50, verbose=10\n",
    "- With sklearn.linear_model.SGDRegressor with max_iter=20\n",
    "- Use this parameter space:\n",
    "```python\n",
    "from scipy.stats import uniform, loguniform\n",
    "param_space = {\n",
    "    \"average\": [True, False],\n",
    "    'penalty': ['l2', 'l1', 'elasticnet'],\n",
    "    \"alpha\": loguniform(1e-5, 1e-1),\n",
    "    \"learning_rate\": [\"invscaling\", \"adaptive\"],\n",
    "    \"power_t\": uniform(0, 1),\n",
    "}\n",
    "```\n",
    "- If you chose sklearn API, you want to import joblib, and use `with joblib.parallel_backend('dask'):` before fitting your model.\n",
    "- If you chose dask_ml API, https://ml.dask.org/hyper-parameter-search.html#basic-use, you'll don't need the with syntax, but just the correct imports: from dask_ml.model_selection import RandomizedSearchCV"
   ]
  },
  {
   "cell_type": "code",
   "execution_count": null,
   "id": "b2d3732e",
   "metadata": {},
   "outputs": [],
   "source": [
    "%%time\n",
    "## Answer needed here (with sklearn API)"
   ]
  },
  {
   "cell_type": "code",
   "execution_count": 60,
   "id": "dc43a312",
   "metadata": {},
   "outputs": [
    {
     "name": "stderr",
     "output_type": "stream",
     "text": [
      "/srv/conda/envs/notebook/lib/python3.11/site-packages/distributed/client.py:3162: UserWarning: Sending large graph of size 42.20 MiB.\n",
      "This may cause some slowdown.\n",
      "Consider scattering data ahead of time and using futures.\n",
      "  warnings.warn(\n",
      "/srv/conda/envs/notebook/lib/python3.11/site-packages/distributed/client.py:3162: UserWarning: Sending large graph of size 42.19 MiB.\n",
      "This may cause some slowdown.\n",
      "Consider scattering data ahead of time and using futures.\n",
      "  warnings.warn(\n"
     ]
    },
    {
     "name": "stdout",
     "output_type": "stream",
     "text": [
      "Best parameters: {'alpha': 6.410277188110155e-05, 'average': False, 'learning_rate': 'invscaling', 'penalty': 'l2', 'power_t': 0.3143559810763267}\n",
      "Best score: 0.503800491630873\n",
      "CPU times: user 570 ms, sys: 216 ms, total: 785 ms\n",
      "Wall time: 1min 36s\n"
     ]
    }
   ],
   "source": [
    "%%time\n",
    "from dask_ml.model_selection import RandomizedSearchCV\n",
    "from sklearn.linear_model import SGDRegressor\n",
    "from scipy.stats import uniform, loguniform\n",
    "\n",
    "# Define the parameter space\n",
    "param_space = {\n",
    "    \"average\": [True, False],\n",
    "    'penalty': ['l2', 'l1', 'elasticnet'],\n",
    "    \"alpha\": loguniform(1e-5, 1e-1),\n",
    "    \"learning_rate\": [\"invscaling\", \"adaptive\"],\n",
    "    \"power_t\": uniform(0, 1),\n",
    "}\n",
    "\n",
    "# Initialize the SGDRegressor\n",
    "model = SGDRegressor(max_iter=20)\n",
    "\n",
    "# Set up the randomized search with cross-validation\n",
    "search = RandomizedSearchCV(\n",
    "    model,\n",
    "    param_space,\n",
    "    n_iter=50,\n",
    "    cv=2,\n",
    "    random_state=42\n",
    ")\n",
    "\n",
    "# Perform the search on the sampled data\n",
    "# Assuming train_sample_X and train_sample_y are already computed and converted to pandas DataFrame/series\n",
    "search.fit(train_sample_X, train_sample_y)\n",
    "\n",
    "# Results\n",
    "print(\"Best parameters:\", search.best_params_)\n",
    "print(\"Best score:\", search.best_score_)\n"
   ]
  },
  {
   "cell_type": "code",
   "execution_count": 61,
   "id": "5dcf013b",
   "metadata": {},
   "outputs": [
    {
     "data": {
      "text/plain": [
       "0.5477293631050179"
      ]
     },
     "execution_count": 61,
     "metadata": {},
     "output_type": "execute_result"
    }
   ],
   "source": [
    "search.score(test_X, test_y)"
   ]
  },
  {
   "cell_type": "code",
   "execution_count": 62,
   "id": "0cf1ae20",
   "metadata": {},
   "outputs": [
    {
     "data": {
      "text/plain": [
       "6.396363262943413"
      ]
     },
     "execution_count": 62,
     "metadata": {},
     "output_type": "execute_result"
    }
   ],
   "source": [
    "from sklearn.metrics import mean_squared_error\n",
    "mean_squared_error(test_y, search.predict(test_X), squared=False)"
   ]
  },
  {
   "cell_type": "markdown",
   "id": "c8545454",
   "metadata": {},
   "source": [
    "<span style=\"color:#EB5E0B;font-style:italic\">\n",
    "\n",
    "- So how does this result compare to the previous one we got with a distributed leaning with a linear model on all the dataset?\n",
    "    \n",
    "</span>"
   ]
  },
  {
   "cell_type": "markdown",
   "id": "6db09016-2251-4ffa-a8f4-df5ed3f9d31b",
   "metadata": {},
   "source": [
    "**ANSWER** \n",
    "\n",
    "Our RMSE is slightly better, like the accuracy, but the difference is not very shocking. Maybe we should run a more ambitious GridSearch and increase the number of iterations to see a real difference. XGBoost, however, was much more efficient. "
   ]
  },
  {
   "cell_type": "markdown",
   "id": "661cfe73",
   "metadata": {},
   "source": [
    "<span style=\"color:#EB5E0B;font-style:italic\">\n",
    "\n",
    "- Try with https://ml.dask.org/modules/generated/dask_ml.model_selection.HyperbandSearchCV.html#dask_ml.model_selection.HyperbandSearchCV instead of RandomizedSearchCV.\n",
    "    \n",
    "You'd prefer to use dask_ml.model_selection.HyperbandSearchCV (instead of joblib). And just need to change n_iter to max_iter, and remove another arg.\n",
    "    \n",
    "</span>"
   ]
  },
  {
   "cell_type": "code",
   "execution_count": 47,
   "id": "f223ae96",
   "metadata": {},
   "outputs": [
    {
     "name": "stderr",
     "output_type": "stream",
     "text": [
      "/srv/conda/envs/notebook/lib/python3.11/site-packages/distributed/client.py:3162: UserWarning: Sending large graph of size 42.19 MiB.\n",
      "This may cause some slowdown.\n",
      "Consider scattering data ahead of time and using futures.\n",
      "  warnings.warn(\n"
     ]
    },
    {
     "name": "stdout",
     "output_type": "stream",
     "text": [
      "Best parameters: {'power_t': 0.1, 'penalty': 'l1', 'learning_rate': 'adaptive', 'average': True, 'alpha': 1e-05}\n",
      "Best score: 0.5114013035648637\n",
      "CPU times: user 881 ms, sys: 577 ms, total: 1.46 s\n",
      "Wall time: 51.3 s\n"
     ]
    }
   ],
   "source": [
    "%%time\n",
    "from dask_ml.model_selection import HyperbandSearchCV\n",
    "from sklearn.linear_model import SGDRegressor\n",
    "\n",
    "model = SGDRegressor(max_iter=20)\n",
    "#Unfortunately, uniform distribution are not supported here\n",
    "param_space = {\n",
    "    'average': [True, False],\n",
    "    'penalty': ['l2', 'l1', 'elasticnet'],\n",
    "    'alpha': [1e-5, 1e-3, 1e-1],  \n",
    "    'learning_rate': ['invscaling', 'adaptive'],\n",
    "    'power_t': [0.1, 0.3, 0.5] }\n",
    "\n",
    "search = HyperbandSearchCV(\n",
    "    model,\n",
    "    param_space,\n",
    "    max_iter=50,\n",
    "    patience=True,  \n",
    "    random_state=42\n",
    ")\n",
    "\n",
    "# Fit the model\n",
    "search.fit(train_sample_X, train_sample_y)\n",
    "print(\"Best parameters:\", search.best_params_)\n",
    "print(\"Best score:\", search.best_score_)"
   ]
  },
  {
   "cell_type": "code",
   "execution_count": 48,
   "id": "6b489ffc",
   "metadata": {},
   "outputs": [
    {
     "data": {
      "text/plain": [
       "0.5430723048471259"
      ]
     },
     "execution_count": 48,
     "metadata": {},
     "output_type": "execute_result"
    }
   ],
   "source": [
    "search.score(test_X, test_y)"
   ]
  },
  {
   "cell_type": "code",
   "execution_count": 49,
   "id": "f90d9c1f",
   "metadata": {},
   "outputs": [
    {
     "data": {
      "text/plain": [
       "6.429210792045596"
      ]
     },
     "execution_count": 49,
     "metadata": {},
     "output_type": "execute_result"
    }
   ],
   "source": [
    "from sklearn.metrics import mean_squared_error\n",
    "mean_squared_error(test_y, search.predict(test_X), squared=False)"
   ]
  },
  {
   "cell_type": "markdown",
   "id": "c9592bec",
   "metadata": {},
   "source": [
    "<span style=\"color:#EB5E0B;font-style:italic\">\n",
    "    \n",
    "- OK, Linear models are what they are, we'll try to do better with Random forest! https://scikit-learn.org/stable/modules/generated/sklearn.ensemble.RandomForestRegressor.html\n",
    "    \n",
    "Return to RandomizedSearchCV for now.\n",
    "\n",
    "Caution: use limited trees, small number of estimators < 10 and max_depth < 40 at first\n",
    "</span>\n",
    "\n",
    "For example:\n",
    "\n",
    "```python\n",
    "param_space = {\n",
    "'n_estimators': range(4,10),\n",
    "'max_depth': range(10,40),\n",
    "}\n",
    "```"
   ]
  },
  {
   "cell_type": "code",
   "execution_count": 51,
   "id": "fcc66ed1",
   "metadata": {},
   "outputs": [
    {
     "name": "stderr",
     "output_type": "stream",
     "text": [
      "/srv/conda/envs/notebook/lib/python3.11/site-packages/distributed/client.py:3162: UserWarning: Sending large graph of size 42.19 MiB.\n",
      "This may cause some slowdown.\n",
      "Consider scattering data ahead of time and using futures.\n",
      "  warnings.warn(\n",
      "/srv/conda/envs/notebook/lib/python3.11/site-packages/distributed/client.py:3162: UserWarning: Sending large graph of size 42.19 MiB.\n",
      "This may cause some slowdown.\n",
      "Consider scattering data ahead of time and using futures.\n",
      "  warnings.warn(\n"
     ]
    },
    {
     "name": "stdout",
     "output_type": "stream",
     "text": [
      "Best parameters: {'n_estimators': 7, 'max_depth': 11}\n",
      "Best score: 0.7440967136079293\n"
     ]
    }
   ],
   "source": [
    "from dask_ml.model_selection import RandomizedSearchCV\n",
    "from sklearn.ensemble import RandomForestRegressor\n",
    "import dask.array as da\n",
    "\n",
    "# Define the parameter space\n",
    "param_space = {\n",
    "    'n_estimators': range(4, 10),  # Fewer estimators for quicker iterations\n",
    "    'max_depth': range(10, 40),    # Limited depth to prevent overly complex models initially\n",
    "}\n",
    "\n",
    "# Initialize the model\n",
    "model = RandomForestRegressor()\n",
    "\n",
    "# Setup Randomized Search with cross-validation\n",
    "search = RandomizedSearchCV(\n",
    "    model,\n",
    "    param_space,\n",
    "    n_iter=50,  \n",
    "    cv=2,\n",
    "    random_state=42,\n",
    ")\n",
    "\n",
    "search.fit(train_sample_X, train_sample_y)\n",
    "\n",
    "# Print the results\n",
    "print(\"Best parameters:\", search.best_params_)\n",
    "print(\"Best score:\", search.best_score_)\n"
   ]
  },
  {
   "cell_type": "markdown",
   "id": "c0cd8318",
   "metadata": {},
   "source": [
    "<span style=\"color:#EB5E0B;font-style:italic\">\n",
    "    \n",
    "- If you did not used joblib, try it now.\n",
    "\n",
    "What do you observe when training RandomForest tree on Dask parallelization Dashboard with joblib? Can you explain why there are so many tasks?\n",
    "</span>"
   ]
  },
  {
   "cell_type": "code",
   "execution_count": 55,
   "id": "6dee3a91",
   "metadata": {},
   "outputs": [
    {
     "name": "stdout",
     "output_type": "stream",
     "text": [
      "Fitting 2 folds for each of 50 candidates, totalling 100 fits\n",
      "Best parameters: {'n_estimators': 7, 'max_depth': 11}\n",
      "Best score: 0.7446222701628291\n",
      "CPU times: user 1.48 s, sys: 448 ms, total: 1.92 s\n",
      "Wall time: 12min 34s\n"
     ]
    }
   ],
   "source": [
    "%%time\n",
    "from dask.distributed import Client\n",
    "from sklearn.model_selection import RandomizedSearchCV\n",
    "from sklearn.ensemble import RandomForestRegressor\n",
    "from joblib import parallel_backend\n",
    "\n",
    "# Define the parameter space\n",
    "param_space = {\n",
    "    'n_estimators': range(4, 10), \n",
    "    'max_depth': range(10, 40),\n",
    "}\n",
    "\n",
    "model = RandomForestRegressor()\n",
    "search = RandomizedSearchCV(\n",
    "    model,\n",
    "    param_space,\n",
    "    n_iter=50,\n",
    "    cv=2,\n",
    "    random_state=42,\n",
    "    verbose=10\n",
    ")\n",
    "\n",
    "# Use Dask's Joblib backend to distribute the computation\n",
    "with parallel_backend('dask'):\n",
    "    search.fit(train_sample_X, train_sample_y)\n",
    "\n",
    "# Print the results\n",
    "print(\"Best parameters:\", search.best_params_)\n",
    "print(\"Best score:\", search.best_score_)\n"
   ]
  },
  {
   "cell_type": "code",
   "execution_count": 127,
   "id": "19be8363-9571-4d5f-9b30-d92d51596c1f",
   "metadata": {},
   "outputs": [
    {
     "data": {
      "text/html": [
       "<style>#sk-container-id-10 {color: black;}#sk-container-id-10 pre{padding: 0;}#sk-container-id-10 div.sk-toggleable {background-color: white;}#sk-container-id-10 label.sk-toggleable__label {cursor: pointer;display: block;width: 100%;margin-bottom: 0;padding: 0.3em;box-sizing: border-box;text-align: center;}#sk-container-id-10 label.sk-toggleable__label-arrow:before {content: \"▸\";float: left;margin-right: 0.25em;color: #696969;}#sk-container-id-10 label.sk-toggleable__label-arrow:hover:before {color: black;}#sk-container-id-10 div.sk-estimator:hover label.sk-toggleable__label-arrow:before {color: black;}#sk-container-id-10 div.sk-toggleable__content {max-height: 0;max-width: 0;overflow: hidden;text-align: left;background-color: #f0f8ff;}#sk-container-id-10 div.sk-toggleable__content pre {margin: 0.2em;color: black;border-radius: 0.25em;background-color: #f0f8ff;}#sk-container-id-10 input.sk-toggleable__control:checked~div.sk-toggleable__content {max-height: 200px;max-width: 100%;overflow: auto;}#sk-container-id-10 input.sk-toggleable__control:checked~label.sk-toggleable__label-arrow:before {content: \"▾\";}#sk-container-id-10 div.sk-estimator input.sk-toggleable__control:checked~label.sk-toggleable__label {background-color: #d4ebff;}#sk-container-id-10 div.sk-label input.sk-toggleable__control:checked~label.sk-toggleable__label {background-color: #d4ebff;}#sk-container-id-10 input.sk-hidden--visually {border: 0;clip: rect(1px 1px 1px 1px);clip: rect(1px, 1px, 1px, 1px);height: 1px;margin: -1px;overflow: hidden;padding: 0;position: absolute;width: 1px;}#sk-container-id-10 div.sk-estimator {font-family: monospace;background-color: #f0f8ff;border: 1px dotted black;border-radius: 0.25em;box-sizing: border-box;margin-bottom: 0.5em;}#sk-container-id-10 div.sk-estimator:hover {background-color: #d4ebff;}#sk-container-id-10 div.sk-parallel-item::after {content: \"\";width: 100%;border-bottom: 1px solid gray;flex-grow: 1;}#sk-container-id-10 div.sk-label:hover label.sk-toggleable__label {background-color: #d4ebff;}#sk-container-id-10 div.sk-serial::before {content: \"\";position: absolute;border-left: 1px solid gray;box-sizing: border-box;top: 0;bottom: 0;left: 50%;z-index: 0;}#sk-container-id-10 div.sk-serial {display: flex;flex-direction: column;align-items: center;background-color: white;padding-right: 0.2em;padding-left: 0.2em;position: relative;}#sk-container-id-10 div.sk-item {position: relative;z-index: 1;}#sk-container-id-10 div.sk-parallel {display: flex;align-items: stretch;justify-content: center;background-color: white;position: relative;}#sk-container-id-10 div.sk-item::before, #sk-container-id-10 div.sk-parallel-item::before {content: \"\";position: absolute;border-left: 1px solid gray;box-sizing: border-box;top: 0;bottom: 0;left: 50%;z-index: -1;}#sk-container-id-10 div.sk-parallel-item {display: flex;flex-direction: column;z-index: 1;position: relative;background-color: white;}#sk-container-id-10 div.sk-parallel-item:first-child::after {align-self: flex-end;width: 50%;}#sk-container-id-10 div.sk-parallel-item:last-child::after {align-self: flex-start;width: 50%;}#sk-container-id-10 div.sk-parallel-item:only-child::after {width: 0;}#sk-container-id-10 div.sk-dashed-wrapped {border: 1px dashed gray;margin: 0 0.4em 0.5em 0.4em;box-sizing: border-box;padding-bottom: 0.4em;background-color: white;}#sk-container-id-10 div.sk-label label {font-family: monospace;font-weight: bold;display: inline-block;line-height: 1.2em;}#sk-container-id-10 div.sk-label-container {text-align: center;}#sk-container-id-10 div.sk-container {/* jupyter's `normalize.less` sets `[hidden] { display: none; }` but bootstrap.min.css set `[hidden] { display: none !important; }` so we also need the `!important` here to be able to override the default hidden behavior on the sphinx rendered scikit-learn.org. See: https://github.com/scikit-learn/scikit-learn/issues/21755 */display: inline-block !important;position: relative;}#sk-container-id-10 div.sk-text-repr-fallback {display: none;}</style><div id=\"sk-container-id-10\" class=\"sk-top-container\"><div class=\"sk-text-repr-fallback\"><pre>RandomForestRegressor(max_depth=11, n_estimators=7)</pre><b>In a Jupyter environment, please rerun this cell to show the HTML representation or trust the notebook. <br />On GitHub, the HTML representation is unable to render, please try loading this page with nbviewer.org.</b></div><div class=\"sk-container\" hidden><div class=\"sk-item\"><div class=\"sk-estimator sk-toggleable\"><input class=\"sk-toggleable__control sk-hidden--visually\" id=\"sk-estimator-id-10\" type=\"checkbox\" checked><label for=\"sk-estimator-id-10\" class=\"sk-toggleable__label sk-toggleable__label-arrow\">RandomForestRegressor</label><div class=\"sk-toggleable__content\"><pre>RandomForestRegressor(max_depth=11, n_estimators=7)</pre></div></div></div></div></div>"
      ],
      "text/plain": [
       "RandomForestRegressor(max_depth=11, n_estimators=7)"
      ]
     },
     "execution_count": 127,
     "metadata": {},
     "output_type": "execute_result"
    }
   ],
   "source": [
    "from sklearn.ensemble import RandomForestRegressor\n",
    "#Take a sample of the input data, get it as pandas dataframe\n",
    "train_sample_df = train_df.sample(frac=0.05, random_state=270120)\n",
    "# Get feature vectors out of it\n",
    "train_sample_X, train_sample_y = get_input_matrix(train_sample_df)\n",
    "train_sample_X = train_sample_X.astype('float32').compute()\n",
    "train_sample_y = train_sample_y.astype('float32').compute()\n",
    "model = RandomForestRegressor(n_estimators=7, max_depth=11)\n",
    "model.fit(train_sample_X, train_sample_y)"
   ]
  },
  {
   "cell_type": "code",
   "execution_count": 128,
   "id": "35a398ba",
   "metadata": {},
   "outputs": [
    {
     "data": {
      "text/plain": [
       "0.7915528392051733"
      ]
     },
     "execution_count": 128,
     "metadata": {},
     "output_type": "execute_result"
    }
   ],
   "source": [
    "model.score(test_X, test_y)"
   ]
  },
  {
   "cell_type": "code",
   "execution_count": 129,
   "id": "e72798f9",
   "metadata": {},
   "outputs": [
    {
     "data": {
      "text/plain": [
       "0.4464183336257591"
      ]
     },
     "execution_count": 129,
     "metadata": {},
     "output_type": "execute_result"
    }
   ],
   "source": [
    "from sklearn.metrics import mean_squared_error\n",
    "mean_squared_error(test_y, model.predict(test_X), squared=False)"
   ]
  },
  {
   "cell_type": "markdown",
   "id": "81fba8bc",
   "metadata": {},
   "source": [
    "<span style=\"color:#EB5E0B;font-style:italic\">\n",
    "    \n",
    "- Did you get better results with RandomForest? Do you know why?\n",
    "</span>"
   ]
  },
  {
   "cell_type": "code",
   "execution_count": null,
   "id": "39708a77",
   "metadata": {},
   "outputs": [],
   "source": [
    "## Much better score (74% accuracy with ml, and 77% with joblib) ! \n",
    "##I assume that the distribution of the data highly non-linear, since random forest use to perform well on non-linear data distribution\n",
    "#I reached an RMSE of 4.53, which is pretty close to 4.5 !"
   ]
  },
  {
   "cell_type": "markdown",
   "id": "f83862a8",
   "metadata": {},
   "source": [
    "<span style=\"color:#EB5E0B;font-style:italic\">\n",
    "    \n",
    "# Extend this notebook\n",
    "    \n",
    "With the example aboves, I reached a score of about 4.5 RMSE. Try to do better!\n",
    "\n",
    "- Add new features to the input Data using Dask Dataframes, or clean it better. Reapply the learning above with these new features. Do you get better results? Some suggestions for a better leaning:\n",
    "  - Try to clean extremes or non realistic values you identified above in the training set.\n",
    "  - Apply some normalisation or regularization or other feature transformation? See https://ml.dask.org/preprocessing.html.\n",
    "  - Add some non linear features (square feature, for example square the travel vector)\n",
    "  - Maybe the hour of the day, or the month, has some impact on fares? Try to add features. See https://matthewrocklin.com/blog/work/2017/01/12/dask-dataframes for some hints on how to do this.\n",
    "  - Maybe try to find a way to use the start and drop off locations?\n",
    "- Improve the model parameters or find a better one. Try using this time dask_ml HyperbandSearchCV. See https://ml.dask.org/hyper-parameter-search.html#basic-use. You can use it for example with https://scikit-learn.org/stable/modules/generated/sklearn.neural_network.MLPRegressor.html#sklearn.neural_network.MLPRegressor.\n",
    "- Try one single RandomForestRegressor (with no HyperParameterSearch), but with big depth and estimators. This single model fitting should be distributed on dask with joblib (Random Forest is about training several decision trees).\n",
    "\n",
    "</span>\n"
   ]
  },
  {
   "cell_type": "markdown",
   "id": "2e4fe4a8-fc3b-4704-8823-4788c4bafb8b",
   "metadata": {},
   "source": [
    "- Apply some normalisation or regularization or other feature transformation? See https://ml.dask.org/preprocessing.html.\n",
    "  - Add some non linear features (square feature, for example square the travel vector)"
   ]
  },
  {
   "cell_type": "markdown",
   "id": "8feb00e5-7b3f-4f0d-9b0b-af7278933b19",
   "metadata": {},
   "source": []
  }
 ],
 "metadata": {
  "kernelspec": {
   "display_name": "Python 3 (ipykernel)",
   "language": "python",
   "name": "python3"
  },
  "language_info": {
   "codemirror_mode": {
    "name": "ipython",
    "version": 3
   },
   "file_extension": ".py",
   "mimetype": "text/x-python",
   "name": "python",
   "nbconvert_exporter": "python",
   "pygments_lexer": "ipython3",
   "version": "3.10.12"
  }
 },
 "nbformat": 4,
 "nbformat_minor": 5
}
